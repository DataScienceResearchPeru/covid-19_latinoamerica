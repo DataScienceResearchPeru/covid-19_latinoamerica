{
 "cells": [
  {
   "cell_type": "code",
   "execution_count": 1,
   "id": "9745b3bf-ff4c-4ac9-b203-6806052333e6",
   "metadata": {},
   "outputs": [],
   "source": [
    "import os\n",
    "from datetime import datetime, timedelta\n",
    "import numpy as np\n",
    "import pandas as pd"
   ]
  },
  {
   "cell_type": "code",
   "execution_count": 2,
   "id": "fa73b0bd-38a8-416b-a139-93b6944d1462",
   "metadata": {},
   "outputs": [],
   "source": [
    "DATA_URL = 'https://raw.githubusercontent.com/RRMaximiliano/covid-shiny-app/main/data/observatorio_nicaragua_dep.csv'\n",
    "DATA_TEMPLATE_URL = 'https://raw.githubusercontent.com/DataScienceResearchPeru/covid-19_latinoamerica/master/latam_covid_19_data/templates/daily_report.csv'\n",
    "PATH_CSV = \"utils/scripts/data_collection/data/nicaragua_temporal/\"\n",
    "PATH_DSRP_DAILY_REPORTS = 'latam_covid_19_data/daily_reports/'\n",
    "LAST_UPDATE = datetime.today().isoformat()\n",
    "DICT_PLACES = {'Boaco':'NI-BO',\n",
    "               'Carazo':'NI-CA',\n",
    "               'Chinandega':'NI-CI',\n",
    "               'Chontales':'NI-CO', \n",
    "               'EstelÃ\\xad':'NI-ES',\n",
    "               'Granada':'NI-GR', \n",
    "               'Jinotega':'NI-JI', \n",
    "               'LeÃ³n':'NI-LE', \n",
    "               'Madriz':'NI-MD', \n",
    "               'Managua':'NI-MN', \n",
    "               'Masaya':'NI-MS',\n",
    "               'Matagalpa':'NI-MT', \n",
    "               'Nueva Segovia':'NI-NS', \n",
    "               'RACCN':'NI-AN',\n",
    "               'RACCS':'NI-AS', \n",
    "               'Rio San Juan':'NI-SJ',\n",
    "               'Rivas':'NI-RI'}"
   ]
  },
  {
   "cell_type": "code",
   "execution_count": 3,
   "id": "80190258-9335-4c6b-9768-110ee9c17a2a",
   "metadata": {},
   "outputs": [
    {
     "output_type": "execute_result",
     "data": {
      "text/plain": [
       "                            cases  deaths\n",
       "ISO 3166-2 Code date                     \n",
       "NI-AN           2020-03-18      1       0\n",
       "                2020-03-24      2       0\n",
       "                2020-03-30      3       0\n",
       "                2020-04-24      5       2\n",
       "                2020-05-03      6       2\n",
       "...                           ...     ...\n",
       "NI-SJ           2021-02-14    116      28\n",
       "                2021-04-15    118      29\n",
       "                2021-04-28    132      29\n",
       "                2021-05-11    133      29\n",
       "                2021-05-15    134      29\n",
       "\n",
       "[2386 rows x 2 columns]"
      ],
      "text/html": "<div>\n<style scoped>\n    .dataframe tbody tr th:only-of-type {\n        vertical-align: middle;\n    }\n\n    .dataframe tbody tr th {\n        vertical-align: top;\n    }\n\n    .dataframe thead th {\n        text-align: right;\n    }\n</style>\n<table border=\"1\" class=\"dataframe\">\n  <thead>\n    <tr style=\"text-align: right;\">\n      <th></th>\n      <th></th>\n      <th>cases</th>\n      <th>deaths</th>\n    </tr>\n    <tr>\n      <th>ISO 3166-2 Code</th>\n      <th>date</th>\n      <th></th>\n      <th></th>\n    </tr>\n  </thead>\n  <tbody>\n    <tr>\n      <th rowspan=\"5\" valign=\"top\">NI-AN</th>\n      <th>2020-03-18</th>\n      <td>1</td>\n      <td>0</td>\n    </tr>\n    <tr>\n      <th>2020-03-24</th>\n      <td>2</td>\n      <td>0</td>\n    </tr>\n    <tr>\n      <th>2020-03-30</th>\n      <td>3</td>\n      <td>0</td>\n    </tr>\n    <tr>\n      <th>2020-04-24</th>\n      <td>5</td>\n      <td>2</td>\n    </tr>\n    <tr>\n      <th>2020-05-03</th>\n      <td>6</td>\n      <td>2</td>\n    </tr>\n    <tr>\n      <th>...</th>\n      <th>...</th>\n      <td>...</td>\n      <td>...</td>\n    </tr>\n    <tr>\n      <th rowspan=\"5\" valign=\"top\">NI-SJ</th>\n      <th>2021-02-14</th>\n      <td>116</td>\n      <td>28</td>\n    </tr>\n    <tr>\n      <th>2021-04-15</th>\n      <td>118</td>\n      <td>29</td>\n    </tr>\n    <tr>\n      <th>2021-04-28</th>\n      <td>132</td>\n      <td>29</td>\n    </tr>\n    <tr>\n      <th>2021-05-11</th>\n      <td>133</td>\n      <td>29</td>\n    </tr>\n    <tr>\n      <th>2021-05-15</th>\n      <td>134</td>\n      <td>29</td>\n    </tr>\n  </tbody>\n</table>\n<p>2386 rows × 2 columns</p>\n</div>"
     },
     "metadata": {},
     "execution_count": 3
    }
   ],
   "source": [
    "df=pd.read_csv(DATA_URL)\n",
    "df['ISO 3166-2 Code']=df['departamento'].map(DICT_PLACES)\n",
    "###############\n",
    "iso_code_unique=df['ISO 3166-2 Code'].unique()\n",
    "date_list=sorted(df['date'].unique())\n",
    "###############\n",
    "df=df.sort_values(['ISO 3166-2 Code','date'])\n",
    "df=df.set_index(['ISO 3166-2 Code','date'])\n",
    "df=df[['cases','deaths']]\n",
    "df"
   ]
  },
  {
   "cell_type": "code",
   "execution_count": 4,
   "metadata": {},
   "outputs": [
    {
     "output_type": "execute_result",
     "data": {
      "text/plain": [
       "                            cases  deaths\n",
       "ISO 3166-2 Code date                     \n",
       "NI-AN           2020-03-17    NaN     NaN\n",
       "                2020-03-18    NaN     NaN\n",
       "                2020-03-19    NaN     NaN\n",
       "                2020-03-20    NaN     NaN\n",
       "                2020-03-21    NaN     NaN\n",
       "...                           ...     ...\n",
       "NI-SJ           2021-05-21    NaN     NaN\n",
       "                2021-05-22    NaN     NaN\n",
       "                2021-05-23    NaN     NaN\n",
       "                2021-05-24    NaN     NaN\n",
       "                2021-05-25    NaN     NaN\n",
       "\n",
       "[7021 rows x 2 columns]"
      ],
      "text/html": "<div>\n<style scoped>\n    .dataframe tbody tr th:only-of-type {\n        vertical-align: middle;\n    }\n\n    .dataframe tbody tr th {\n        vertical-align: top;\n    }\n\n    .dataframe thead th {\n        text-align: right;\n    }\n</style>\n<table border=\"1\" class=\"dataframe\">\n  <thead>\n    <tr style=\"text-align: right;\">\n      <th></th>\n      <th></th>\n      <th>cases</th>\n      <th>deaths</th>\n    </tr>\n    <tr>\n      <th>ISO 3166-2 Code</th>\n      <th>date</th>\n      <th></th>\n      <th></th>\n    </tr>\n  </thead>\n  <tbody>\n    <tr>\n      <th rowspan=\"5\" valign=\"top\">NI-AN</th>\n      <th>2020-03-17</th>\n      <td>NaN</td>\n      <td>NaN</td>\n    </tr>\n    <tr>\n      <th>2020-03-18</th>\n      <td>NaN</td>\n      <td>NaN</td>\n    </tr>\n    <tr>\n      <th>2020-03-19</th>\n      <td>NaN</td>\n      <td>NaN</td>\n    </tr>\n    <tr>\n      <th>2020-03-20</th>\n      <td>NaN</td>\n      <td>NaN</td>\n    </tr>\n    <tr>\n      <th>2020-03-21</th>\n      <td>NaN</td>\n      <td>NaN</td>\n    </tr>\n    <tr>\n      <th>...</th>\n      <th>...</th>\n      <td>...</td>\n      <td>...</td>\n    </tr>\n    <tr>\n      <th rowspan=\"5\" valign=\"top\">NI-SJ</th>\n      <th>2021-05-21</th>\n      <td>NaN</td>\n      <td>NaN</td>\n    </tr>\n    <tr>\n      <th>2021-05-22</th>\n      <td>NaN</td>\n      <td>NaN</td>\n    </tr>\n    <tr>\n      <th>2021-05-23</th>\n      <td>NaN</td>\n      <td>NaN</td>\n    </tr>\n    <tr>\n      <th>2021-05-24</th>\n      <td>NaN</td>\n      <td>NaN</td>\n    </tr>\n    <tr>\n      <th>2021-05-25</th>\n      <td>NaN</td>\n      <td>NaN</td>\n    </tr>\n  </tbody>\n</table>\n<p>7021 rows × 2 columns</p>\n</div>"
     },
     "metadata": {},
     "execution_count": 4
    }
   ],
   "source": [
    "df_complete=pd.DataFrame({'date':day,'ISO 3166-2 Code':country,'cases':np.nan,'deaths':np.nan} for day in date_list for country in iso_code_unique)\n",
    "df_complete=df_complete.sort_values(['ISO 3166-2 Code','date'])\n",
    "df_complete=df_complete.set_index(['ISO 3166-2 Code','date'])\n",
    "df_complete"
   ]
  },
  {
   "cell_type": "code",
   "execution_count": 5,
   "metadata": {},
   "outputs": [
    {
     "output_type": "execute_result",
     "data": {
      "text/plain": [
       "                            cases  deaths\n",
       "ISO 3166-2 Code date                     \n",
       "NI-AN           2020-03-17    NaN     NaN\n",
       "                2020-03-18    1.0     0.0\n",
       "                2020-03-19    NaN     NaN\n",
       "                2020-03-20    NaN     NaN\n",
       "                2020-03-21    NaN     NaN\n",
       "...                           ...     ...\n",
       "NI-SJ           2021-05-21    NaN     NaN\n",
       "                2021-05-22    NaN     NaN\n",
       "                2021-05-23    NaN     NaN\n",
       "                2021-05-24    NaN     NaN\n",
       "                2021-05-25    NaN     NaN\n",
       "\n",
       "[7021 rows x 2 columns]"
      ],
      "text/html": "<div>\n<style scoped>\n    .dataframe tbody tr th:only-of-type {\n        vertical-align: middle;\n    }\n\n    .dataframe tbody tr th {\n        vertical-align: top;\n    }\n\n    .dataframe thead th {\n        text-align: right;\n    }\n</style>\n<table border=\"1\" class=\"dataframe\">\n  <thead>\n    <tr style=\"text-align: right;\">\n      <th></th>\n      <th></th>\n      <th>cases</th>\n      <th>deaths</th>\n    </tr>\n    <tr>\n      <th>ISO 3166-2 Code</th>\n      <th>date</th>\n      <th></th>\n      <th></th>\n    </tr>\n  </thead>\n  <tbody>\n    <tr>\n      <th rowspan=\"5\" valign=\"top\">NI-AN</th>\n      <th>2020-03-17</th>\n      <td>NaN</td>\n      <td>NaN</td>\n    </tr>\n    <tr>\n      <th>2020-03-18</th>\n      <td>1.0</td>\n      <td>0.0</td>\n    </tr>\n    <tr>\n      <th>2020-03-19</th>\n      <td>NaN</td>\n      <td>NaN</td>\n    </tr>\n    <tr>\n      <th>2020-03-20</th>\n      <td>NaN</td>\n      <td>NaN</td>\n    </tr>\n    <tr>\n      <th>2020-03-21</th>\n      <td>NaN</td>\n      <td>NaN</td>\n    </tr>\n    <tr>\n      <th>...</th>\n      <th>...</th>\n      <td>...</td>\n      <td>...</td>\n    </tr>\n    <tr>\n      <th rowspan=\"5\" valign=\"top\">NI-SJ</th>\n      <th>2021-05-21</th>\n      <td>NaN</td>\n      <td>NaN</td>\n    </tr>\n    <tr>\n      <th>2021-05-22</th>\n      <td>NaN</td>\n      <td>NaN</td>\n    </tr>\n    <tr>\n      <th>2021-05-23</th>\n      <td>NaN</td>\n      <td>NaN</td>\n    </tr>\n    <tr>\n      <th>2021-05-24</th>\n      <td>NaN</td>\n      <td>NaN</td>\n    </tr>\n    <tr>\n      <th>2021-05-25</th>\n      <td>NaN</td>\n      <td>NaN</td>\n    </tr>\n  </tbody>\n</table>\n<p>7021 rows × 2 columns</p>\n</div>"
     },
     "metadata": {},
     "execution_count": 5
    }
   ],
   "source": [
    "df_complete.update(df)\n",
    "df_complete"
   ]
  },
  {
   "cell_type": "code",
   "execution_count": 6,
   "metadata": {},
   "outputs": [],
   "source": [
    "df_complete=df_complete.ffill()"
   ]
  },
  {
   "cell_type": "code",
   "execution_count": 7,
   "metadata": {},
   "outputs": [],
   "source": [
    "df_complete=df_complete.reset_index()"
   ]
  },
  {
   "cell_type": "code",
   "execution_count": 9,
   "metadata": {},
   "outputs": [
    {
     "output_type": "execute_result",
     "data": {
      "text/plain": [
       "ISO 3166-2 Code    NI-ANNI-ASNI-BONI-CANI-CINI-CONI-ESNI-GRNI-JIN...\n",
       "date               2021-05-152021-05-152021-05-152021-05-152021-0...\n",
       "cases                                                        15786.0\n",
       "deaths                                                        3012.0\n",
       "dtype: object"
      ]
     },
     "metadata": {},
     "execution_count": 9
    }
   ],
   "source": [
    "df_complete[df_complete['date']=='2021-05-15'].sum()"
   ]
  }
 ],
 "metadata": {
  "kernelspec": {
   "display_name": "Python 3",
   "language": "python",
   "name": "python3"
  },
  "language_info": {
   "codemirror_mode": {
    "name": "ipython",
    "version": 3
   },
   "file_extension": ".py",
   "mimetype": "text/x-python",
   "name": "python",
   "nbconvert_exporter": "python",
   "pygments_lexer": "ipython3",
   "version": "3.9.5"
  }
 },
 "nbformat": 4,
 "nbformat_minor": 5
}