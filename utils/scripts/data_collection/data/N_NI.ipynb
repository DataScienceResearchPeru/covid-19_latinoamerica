{
 "cells": [
  {
   "cell_type": "code",
   "execution_count": 1,
   "id": "9745b3bf-ff4c-4ac9-b203-6806052333e6",
   "metadata": {},
   "outputs": [],
   "source": [
    "import os\n",
    "from datetime import datetime, timedelta\n",
    "import numpy as np\n",
    "import pandas as pd"
   ]
  },
  {
   "cell_type": "code",
   "execution_count": 2,
   "id": "fa73b0bd-38a8-416b-a139-93b6944d1462",
   "metadata": {},
   "outputs": [],
   "source": [
    "DATA_URL = 'https://raw.githubusercontent.com/RRMaximiliano/covid-shiny-app/main/data/observatorio_nicaragua_dep.csv'\n",
    "DATA_TEMPLATE_URL = 'https://raw.githubusercontent.com/DataScienceResearchPeru/covid-19_latinoamerica/master/latam_covid_19_data/templates/daily_report.csv'\n",
    "PATH_CSV = \"utils/scripts/data_collection/data/nicaragua_temporal/\"\n",
    "PATH_DSRP_DAILY_REPORTS = 'latam_covid_19_data/daily_reports/'\n",
    "LAST_UPDATE = datetime.today().isoformat()\n",
    "DICT_PLACES = {'Boaco':'NI-BO',\n",
    "               'Carazo':'NI-CA',\n",
    "               'Chinandega':'NI-CI',\n",
    "               'Chontales':'NI-CO', \n",
    "               'EstelÃ\\xad':'NI-ES',\n",
    "               'Granada':'NI-GR', \n",
    "               'Jinotega':'NI-JI', \n",
    "               'LeÃ³n':'NI-LE', \n",
    "               'Madriz':'NI-MD', \n",
    "               'Managua':'NI-MN', \n",
    "               'Masaya':'NI-MS',\n",
    "               'Matagalpa':'NI-MT', \n",
    "               'Nueva Segovia':'NI-NS', \n",
    "               'RACCN':'NI-AN',\n",
    "               'RACCS':'NI-AS', \n",
    "               'Rio San Juan':'NI-SJ',\n",
    "               'Rivas':'NI-RI'}"
   ]
  },
  {
   "cell_type": "code",
   "execution_count": 3,
   "id": "80190258-9335-4c6b-9768-110ee9c17a2a",
   "metadata": {},
   "outputs": [
    {
     "output_type": "execute_result",
     "data": {
      "text/plain": [
       "     departamento        date  cases  deaths\n",
       "0           Boaco  2020-03-22      1       0\n",
       "1           Boaco  2020-04-07      2       0\n",
       "2           Boaco  2020-04-12      3       0\n",
       "3           Boaco  2020-04-20      4       0\n",
       "4           Boaco  2020-04-26      7       0\n",
       "...           ...         ...    ...     ...\n",
       "2381        Rivas  2021-05-21    680      87\n",
       "2382        Rivas  2021-05-22    699      87\n",
       "2383        Rivas  2021-05-23    718      87\n",
       "2384        Rivas  2021-05-24    737      87\n",
       "2385        Rivas  2021-05-25    757      87\n",
       "\n",
       "[2386 rows x 4 columns]"
      ],
      "text/html": "<div>\n<style scoped>\n    .dataframe tbody tr th:only-of-type {\n        vertical-align: middle;\n    }\n\n    .dataframe tbody tr th {\n        vertical-align: top;\n    }\n\n    .dataframe thead th {\n        text-align: right;\n    }\n</style>\n<table border=\"1\" class=\"dataframe\">\n  <thead>\n    <tr style=\"text-align: right;\">\n      <th></th>\n      <th>departamento</th>\n      <th>date</th>\n      <th>cases</th>\n      <th>deaths</th>\n    </tr>\n  </thead>\n  <tbody>\n    <tr>\n      <th>0</th>\n      <td>Boaco</td>\n      <td>2020-03-22</td>\n      <td>1</td>\n      <td>0</td>\n    </tr>\n    <tr>\n      <th>1</th>\n      <td>Boaco</td>\n      <td>2020-04-07</td>\n      <td>2</td>\n      <td>0</td>\n    </tr>\n    <tr>\n      <th>2</th>\n      <td>Boaco</td>\n      <td>2020-04-12</td>\n      <td>3</td>\n      <td>0</td>\n    </tr>\n    <tr>\n      <th>3</th>\n      <td>Boaco</td>\n      <td>2020-04-20</td>\n      <td>4</td>\n      <td>0</td>\n    </tr>\n    <tr>\n      <th>4</th>\n      <td>Boaco</td>\n      <td>2020-04-26</td>\n      <td>7</td>\n      <td>0</td>\n    </tr>\n    <tr>\n      <th>...</th>\n      <td>...</td>\n      <td>...</td>\n      <td>...</td>\n      <td>...</td>\n    </tr>\n    <tr>\n      <th>2381</th>\n      <td>Rivas</td>\n      <td>2021-05-21</td>\n      <td>680</td>\n      <td>87</td>\n    </tr>\n    <tr>\n      <th>2382</th>\n      <td>Rivas</td>\n      <td>2021-05-22</td>\n      <td>699</td>\n      <td>87</td>\n    </tr>\n    <tr>\n      <th>2383</th>\n      <td>Rivas</td>\n      <td>2021-05-23</td>\n      <td>718</td>\n      <td>87</td>\n    </tr>\n    <tr>\n      <th>2384</th>\n      <td>Rivas</td>\n      <td>2021-05-24</td>\n      <td>737</td>\n      <td>87</td>\n    </tr>\n    <tr>\n      <th>2385</th>\n      <td>Rivas</td>\n      <td>2021-05-25</td>\n      <td>757</td>\n      <td>87</td>\n    </tr>\n  </tbody>\n</table>\n<p>2386 rows × 4 columns</p>\n</div>"
     },
     "metadata": {},
     "execution_count": 3
    }
   ],
   "source": [
    "df=pd.read_csv(DATA_URL)\n",
    "df"
   ]
  },
  {
   "cell_type": "code",
   "execution_count": 8,
   "id": "3b29f095-67f5-4e87-a714-70440fbb3185",
   "metadata": {},
   "outputs": [
    {
     "output_type": "execute_result",
     "data": {
      "text/plain": [
       "     departamento        date  cases  deaths ISO 3166-2 Code\n",
       "386       EstelÃ­  2020-03-18      8       0           NI-ES\n",
       "387       EstelÃ­  2020-03-19     12       0           NI-ES\n",
       "567       Granada  2020-03-18      2       0           NI-GR\n",
       "1079       Madriz  2020-03-18      1       0           NI-MD\n",
       "1237      Managua  2020-03-18      2       0           NI-MN\n",
       "1238      Managua  2020-03-19     13       0           NI-MN\n",
       "1587       Masaya  2020-03-18      1       0           NI-MS\n",
       "1737    Matagalpa  2020-03-17      1       0           NI-MT\n",
       "2054        RACCN  2020-03-18      1       0           NI-AN\n",
       "2269        Rivas  2020-03-17      1       0           NI-RI\n",
       "2270        Rivas  2020-03-18      3       0           NI-RI\n",
       "2271        Rivas  2020-03-19      4       0           NI-RI"
      ],
      "text/html": "<div>\n<style scoped>\n    .dataframe tbody tr th:only-of-type {\n        vertical-align: middle;\n    }\n\n    .dataframe tbody tr th {\n        vertical-align: top;\n    }\n\n    .dataframe thead th {\n        text-align: right;\n    }\n</style>\n<table border=\"1\" class=\"dataframe\">\n  <thead>\n    <tr style=\"text-align: right;\">\n      <th></th>\n      <th>departamento</th>\n      <th>date</th>\n      <th>cases</th>\n      <th>deaths</th>\n      <th>ISO 3166-2 Code</th>\n    </tr>\n  </thead>\n  <tbody>\n    <tr>\n      <th>386</th>\n      <td>EstelÃ­</td>\n      <td>2020-03-18</td>\n      <td>8</td>\n      <td>0</td>\n      <td>NI-ES</td>\n    </tr>\n    <tr>\n      <th>387</th>\n      <td>EstelÃ­</td>\n      <td>2020-03-19</td>\n      <td>12</td>\n      <td>0</td>\n      <td>NI-ES</td>\n    </tr>\n    <tr>\n      <th>567</th>\n      <td>Granada</td>\n      <td>2020-03-18</td>\n      <td>2</td>\n      <td>0</td>\n      <td>NI-GR</td>\n    </tr>\n    <tr>\n      <th>1079</th>\n      <td>Madriz</td>\n      <td>2020-03-18</td>\n      <td>1</td>\n      <td>0</td>\n      <td>NI-MD</td>\n    </tr>\n    <tr>\n      <th>1237</th>\n      <td>Managua</td>\n      <td>2020-03-18</td>\n      <td>2</td>\n      <td>0</td>\n      <td>NI-MN</td>\n    </tr>\n    <tr>\n      <th>1238</th>\n      <td>Managua</td>\n      <td>2020-03-19</td>\n      <td>13</td>\n      <td>0</td>\n      <td>NI-MN</td>\n    </tr>\n    <tr>\n      <th>1587</th>\n      <td>Masaya</td>\n      <td>2020-03-18</td>\n      <td>1</td>\n      <td>0</td>\n      <td>NI-MS</td>\n    </tr>\n    <tr>\n      <th>1737</th>\n      <td>Matagalpa</td>\n      <td>2020-03-17</td>\n      <td>1</td>\n      <td>0</td>\n      <td>NI-MT</td>\n    </tr>\n    <tr>\n      <th>2054</th>\n      <td>RACCN</td>\n      <td>2020-03-18</td>\n      <td>1</td>\n      <td>0</td>\n      <td>NI-AN</td>\n    </tr>\n    <tr>\n      <th>2269</th>\n      <td>Rivas</td>\n      <td>2020-03-17</td>\n      <td>1</td>\n      <td>0</td>\n      <td>NI-RI</td>\n    </tr>\n    <tr>\n      <th>2270</th>\n      <td>Rivas</td>\n      <td>2020-03-18</td>\n      <td>3</td>\n      <td>0</td>\n      <td>NI-RI</td>\n    </tr>\n    <tr>\n      <th>2271</th>\n      <td>Rivas</td>\n      <td>2020-03-19</td>\n      <td>4</td>\n      <td>0</td>\n      <td>NI-RI</td>\n    </tr>\n  </tbody>\n</table>\n</div>"
     },
     "metadata": {},
     "execution_count": 8
    }
   ],
   "source": [
    "df['ISO 3166-2 Code']=df['departamento'].map(DICT_PLACES)\n",
    "df[df.date<'2020-03-20']"
   ]
  },
  {
   "cell_type": "code",
   "execution_count": 20,
   "metadata": {},
   "outputs": [
    {
     "output_type": "execute_result",
     "data": {
      "text/plain": [
       "array(['NI-BO', 'NI-CA', 'NI-CI', 'NI-CO', 'NI-ES', 'NI-GR', 'NI-JI',\n",
       "       'NI-LE', 'NI-MD', 'NI-MN', 'NI-MS', 'NI-MT', 'NI-NS', 'NI-AN',\n",
       "       'NI-AS', 'NI-SJ', 'NI-RI'], dtype=object)"
      ]
     },
     "metadata": {},
     "execution_count": 20
    }
   ],
   "source": [
    "df['ISO 3166-2 Code'].unique()"
   ]
  },
  {
   "cell_type": "code",
   "execution_count": 9,
   "metadata": {},
   "outputs": [
    {
     "output_type": "execute_result",
     "data": {
      "text/plain": [
       "662"
      ]
     },
     "metadata": {},
     "execution_count": 9
    }
   ],
   "source": [
    "int(df.loc[(df['ISO 3166-2 Code']=='NI-RI')&(df['date']=='2021-05-20')]['cases'].values[0])"
   ]
  },
  {
   "cell_type": "code",
   "execution_count": null,
   "metadata": {},
   "outputs": [],
   "source": []
  },
  {
   "cell_type": "code",
   "execution_count": 10,
   "metadata": {},
   "outputs": [
    {
     "output_type": "execute_result",
     "data": {
      "text/plain": [
       "     departamento        date  cases  deaths ISO 3166-2 Code  cases_fixed\n",
       "0           Boaco  2020-03-22      1       0           NI-BO            1\n",
       "1           Boaco  2020-04-07      2       0           NI-BO            2\n",
       "2           Boaco  2020-04-12      3       0           NI-BO            3\n",
       "3           Boaco  2020-04-20      4       0           NI-BO            4\n",
       "4           Boaco  2020-04-26      7       0           NI-BO            7\n",
       "...           ...         ...    ...     ...             ...          ...\n",
       "2381        Rivas  2021-05-21    680      87           NI-RI          680\n",
       "2382        Rivas  2021-05-22    699      87           NI-RI          699\n",
       "2383        Rivas  2021-05-23    718      87           NI-RI          718\n",
       "2384        Rivas  2021-05-24    737      87           NI-RI          737\n",
       "2385        Rivas  2021-05-25    757      87           NI-RI          757\n",
       "\n",
       "[2386 rows x 6 columns]"
      ],
      "text/html": "<div>\n<style scoped>\n    .dataframe tbody tr th:only-of-type {\n        vertical-align: middle;\n    }\n\n    .dataframe tbody tr th {\n        vertical-align: top;\n    }\n\n    .dataframe thead th {\n        text-align: right;\n    }\n</style>\n<table border=\"1\" class=\"dataframe\">\n  <thead>\n    <tr style=\"text-align: right;\">\n      <th></th>\n      <th>departamento</th>\n      <th>date</th>\n      <th>cases</th>\n      <th>deaths</th>\n      <th>ISO 3166-2 Code</th>\n      <th>cases_fixed</th>\n    </tr>\n  </thead>\n  <tbody>\n    <tr>\n      <th>0</th>\n      <td>Boaco</td>\n      <td>2020-03-22</td>\n      <td>1</td>\n      <td>0</td>\n      <td>NI-BO</td>\n      <td>1</td>\n    </tr>\n    <tr>\n      <th>1</th>\n      <td>Boaco</td>\n      <td>2020-04-07</td>\n      <td>2</td>\n      <td>0</td>\n      <td>NI-BO</td>\n      <td>2</td>\n    </tr>\n    <tr>\n      <th>2</th>\n      <td>Boaco</td>\n      <td>2020-04-12</td>\n      <td>3</td>\n      <td>0</td>\n      <td>NI-BO</td>\n      <td>3</td>\n    </tr>\n    <tr>\n      <th>3</th>\n      <td>Boaco</td>\n      <td>2020-04-20</td>\n      <td>4</td>\n      <td>0</td>\n      <td>NI-BO</td>\n      <td>4</td>\n    </tr>\n    <tr>\n      <th>4</th>\n      <td>Boaco</td>\n      <td>2020-04-26</td>\n      <td>7</td>\n      <td>0</td>\n      <td>NI-BO</td>\n      <td>7</td>\n    </tr>\n    <tr>\n      <th>...</th>\n      <td>...</td>\n      <td>...</td>\n      <td>...</td>\n      <td>...</td>\n      <td>...</td>\n      <td>...</td>\n    </tr>\n    <tr>\n      <th>2381</th>\n      <td>Rivas</td>\n      <td>2021-05-21</td>\n      <td>680</td>\n      <td>87</td>\n      <td>NI-RI</td>\n      <td>680</td>\n    </tr>\n    <tr>\n      <th>2382</th>\n      <td>Rivas</td>\n      <td>2021-05-22</td>\n      <td>699</td>\n      <td>87</td>\n      <td>NI-RI</td>\n      <td>699</td>\n    </tr>\n    <tr>\n      <th>2383</th>\n      <td>Rivas</td>\n      <td>2021-05-23</td>\n      <td>718</td>\n      <td>87</td>\n      <td>NI-RI</td>\n      <td>718</td>\n    </tr>\n    <tr>\n      <th>2384</th>\n      <td>Rivas</td>\n      <td>2021-05-24</td>\n      <td>737</td>\n      <td>87</td>\n      <td>NI-RI</td>\n      <td>737</td>\n    </tr>\n    <tr>\n      <th>2385</th>\n      <td>Rivas</td>\n      <td>2021-05-25</td>\n      <td>757</td>\n      <td>87</td>\n      <td>NI-RI</td>\n      <td>757</td>\n    </tr>\n  </tbody>\n</table>\n<p>2386 rows × 6 columns</p>\n</div>"
     },
     "metadata": {},
     "execution_count": 10
    }
   ],
   "source": [
    "df['cases_fixed'] = df.groupby(['ISO 3166-2 Code','date'])['cases'].ffill()\n",
    "df"
   ]
  },
  {
   "cell_type": "code",
   "execution_count": 102,
   "metadata": {},
   "outputs": [
    {
     "output_type": "execute_result",
     "data": {
      "text/plain": [
       "         date ISO 3166-2 Code  cases_fixed  deaths_fixed\n",
       "0  2021-05-10           NI-BO          NaN           NaN\n",
       "1  2021-05-10           NI-CA          NaN           NaN\n",
       "2  2021-05-10           NI-CI          NaN           NaN\n",
       "3  2021-05-10           NI-CO          NaN           NaN\n",
       "4  2021-05-10           NI-ES          NaN           NaN"
      ],
      "text/html": "<div>\n<style scoped>\n    .dataframe tbody tr th:only-of-type {\n        vertical-align: middle;\n    }\n\n    .dataframe tbody tr th {\n        vertical-align: top;\n    }\n\n    .dataframe thead th {\n        text-align: right;\n    }\n</style>\n<table border=\"1\" class=\"dataframe\">\n  <thead>\n    <tr style=\"text-align: right;\">\n      <th></th>\n      <th>date</th>\n      <th>ISO 3166-2 Code</th>\n      <th>cases_fixed</th>\n      <th>deaths_fixed</th>\n    </tr>\n  </thead>\n  <tbody>\n    <tr>\n      <th>0</th>\n      <td>2021-05-10</td>\n      <td>NI-BO</td>\n      <td>NaN</td>\n      <td>NaN</td>\n    </tr>\n    <tr>\n      <th>1</th>\n      <td>2021-05-10</td>\n      <td>NI-CA</td>\n      <td>NaN</td>\n      <td>NaN</td>\n    </tr>\n    <tr>\n      <th>2</th>\n      <td>2021-05-10</td>\n      <td>NI-CI</td>\n      <td>NaN</td>\n      <td>NaN</td>\n    </tr>\n    <tr>\n      <th>3</th>\n      <td>2021-05-10</td>\n      <td>NI-CO</td>\n      <td>NaN</td>\n      <td>NaN</td>\n    </tr>\n    <tr>\n      <th>4</th>\n      <td>2021-05-10</td>\n      <td>NI-ES</td>\n      <td>NaN</td>\n      <td>NaN</td>\n    </tr>\n  </tbody>\n</table>\n</div>"
     },
     "metadata": {},
     "execution_count": 102
    }
   ],
   "source": [
    "from datetime import datetime,timedelta\n",
    "\n",
    "\n",
    "isos_code_unique=['NI-BO', 'NI-CA', 'NI-CI', 'NI-CO', 'NI-ES', 'NI-GR', 'NI-JI',\n",
    "                    'NI-LE', 'NI-MD', 'NI-MN', 'NI-MS', 'NI-MT', 'NI-NS', 'NI-AN',\n",
    "                    'NI-AS', 'NI-SJ', 'NI-RI']\n",
    "base = datetime.today()\n",
    "numdays=2\n",
    "date_list = [(base - timedelta(days=x)).strftime('%Y-%m-%d') for x in range(numdays)]\n",
    "date_list=sorted(['2021-05-10','2021-05-11'])\n",
    "\n",
    "df_complete=pd.DataFrame({'date':day,'ISO 3166-2 Code':country,'cases_fixed':np.nan,'deaths_fixed':np.nan} for day in date_list for country in isos_code_unique)\n",
    "df_complete.head()"
   ]
  },
  {
   "cell_type": "code",
   "execution_count": 209,
   "metadata": {},
   "outputs": [
    {
     "output_type": "execute_result",
     "data": {
      "text/plain": [
       "            date ISO 3166-2 Code  cases  deaths\n",
       "0     2020-03-17           NI-BO    NaN     NaN\n",
       "1     2020-03-18           NI-BO    NaN     NaN\n",
       "2     2020-03-19           NI-BO    NaN     NaN\n",
       "3     2020-03-20           NI-BO    NaN     NaN\n",
       "4     2020-03-21           NI-BO    NaN     NaN\n",
       "...          ...             ...    ...     ...\n",
       "7016  2021-05-21           NI-RI    NaN     NaN\n",
       "7017  2021-05-22           NI-RI    NaN     NaN\n",
       "7018  2021-05-23           NI-RI    NaN     NaN\n",
       "7019  2021-05-24           NI-RI    NaN     NaN\n",
       "7020  2021-05-25           NI-RI    NaN     NaN\n",
       "\n",
       "[7021 rows x 4 columns]"
      ],
      "text/html": "<div>\n<style scoped>\n    .dataframe tbody tr th:only-of-type {\n        vertical-align: middle;\n    }\n\n    .dataframe tbody tr th {\n        vertical-align: top;\n    }\n\n    .dataframe thead th {\n        text-align: right;\n    }\n</style>\n<table border=\"1\" class=\"dataframe\">\n  <thead>\n    <tr style=\"text-align: right;\">\n      <th></th>\n      <th>date</th>\n      <th>ISO 3166-2 Code</th>\n      <th>cases</th>\n      <th>deaths</th>\n    </tr>\n  </thead>\n  <tbody>\n    <tr>\n      <th>0</th>\n      <td>2020-03-17</td>\n      <td>NI-BO</td>\n      <td>NaN</td>\n      <td>NaN</td>\n    </tr>\n    <tr>\n      <th>1</th>\n      <td>2020-03-18</td>\n      <td>NI-BO</td>\n      <td>NaN</td>\n      <td>NaN</td>\n    </tr>\n    <tr>\n      <th>2</th>\n      <td>2020-03-19</td>\n      <td>NI-BO</td>\n      <td>NaN</td>\n      <td>NaN</td>\n    </tr>\n    <tr>\n      <th>3</th>\n      <td>2020-03-20</td>\n      <td>NI-BO</td>\n      <td>NaN</td>\n      <td>NaN</td>\n    </tr>\n    <tr>\n      <th>4</th>\n      <td>2020-03-21</td>\n      <td>NI-BO</td>\n      <td>NaN</td>\n      <td>NaN</td>\n    </tr>\n    <tr>\n      <th>...</th>\n      <td>...</td>\n      <td>...</td>\n      <td>...</td>\n      <td>...</td>\n    </tr>\n    <tr>\n      <th>7016</th>\n      <td>2021-05-21</td>\n      <td>NI-RI</td>\n      <td>NaN</td>\n      <td>NaN</td>\n    </tr>\n    <tr>\n      <th>7017</th>\n      <td>2021-05-22</td>\n      <td>NI-RI</td>\n      <td>NaN</td>\n      <td>NaN</td>\n    </tr>\n    <tr>\n      <th>7018</th>\n      <td>2021-05-23</td>\n      <td>NI-RI</td>\n      <td>NaN</td>\n      <td>NaN</td>\n    </tr>\n    <tr>\n      <th>7019</th>\n      <td>2021-05-24</td>\n      <td>NI-RI</td>\n      <td>NaN</td>\n      <td>NaN</td>\n    </tr>\n    <tr>\n      <th>7020</th>\n      <td>2021-05-25</td>\n      <td>NI-RI</td>\n      <td>NaN</td>\n      <td>NaN</td>\n    </tr>\n  </tbody>\n</table>\n<p>7021 rows × 4 columns</p>\n</div>"
     },
     "metadata": {},
     "execution_count": 209
    }
   ],
   "source": [
    "\n",
    "\n",
    "\n",
    "df_original = pd.read_csv(DATA_URL)\n",
    "df_original['ISO 3166-2 Code']=df_original['departamento'].map(DICT_PLACES)\n",
    "\n",
    "df_template = pd.read_csv(DATA_TEMPLATE_URL)\n",
    "df_template=df_template.fillna('')\n",
    "# df_template['Confirmed']=df_template['Confirmed'].astype(int)\n",
    "# df_template['Deaths']=df_template['Deaths'].astype(int)\n",
    "# df_template['Recovered']=df_template['Recovered'].astype(int)\n",
    "# df_template['Last Update']=''\n",
    "df_template.loc[df_template['ISO 3166-2 Code'].str.contains('NI-'),'Last Update']=LAST_UPDATE\n",
    "\n",
    "date_list=sorted(df_original['date'].unique())\n",
    "isos_code_unique=df_original['ISO 3166-2 Code'].unique()\n",
    "\n",
    "# CREATE ROWS AUSENCES\n",
    "isos_code_unique=df_original['ISO 3166-2 Code'].unique()\n",
    "my_date_list=df_original['date'].unique()\n",
    "df_complete=pd.DataFrame({'date':day,\n",
    "                    'ISO 3166-2 Code':country,\n",
    "                    'cases':np.nan,\n",
    "                    'deaths':np.nan} for country in isos_code_unique for day in date_list)\n",
    "df_complete"
   ]
  },
  {
   "cell_type": "code",
   "execution_count": 210,
   "metadata": {},
   "outputs": [
    {
     "output_type": "stream",
     "name": "stdout",
     "text": [
      "                            cases  deaths\nISO 3166-2 Code date                     \nNI-BO           2020-03-17    NaN     NaN\n                2020-03-18    NaN     NaN\n                2020-03-19    NaN     NaN\n                2020-03-20    NaN     NaN\n                2020-03-21    NaN     NaN\n                            cases  deaths\nISO 3166-2 Code date                     \nNI-BO           2020-03-22      1       0\n                2020-04-07      2       0\n                2020-04-12      3       0\n                2020-04-20      4       0\n                2020-04-26      7       0\n"
     ]
    }
   ],
   "source": [
    "df_complete=df_complete.set_index(['ISO 3166-2 Code','date'])\n",
    "df_original=df_original.set_index(['ISO 3166-2 Code','date'])[['cases','deaths']]\n",
    "print(df_complete.head(5))\n",
    "print(df_original.head(5))"
   ]
  },
  {
   "cell_type": "code",
   "execution_count": 211,
   "metadata": {},
   "outputs": [],
   "source": [
    "df_complete.update(df_original)\n",
    "#df_complete=df_complete.reset_index()"
   ]
  },
  {
   "cell_type": "code",
   "execution_count": 223,
   "metadata": {},
   "outputs": [],
   "source": [
    "df_complete = df_complete.sort_index(level=1).ffill().reindex(df_complete.index)"
   ]
  },
  {
   "cell_type": "code",
   "execution_count": 225,
   "metadata": {},
   "outputs": [
    {
     "output_type": "execute_result",
     "data": {
      "text/plain": [
       "     ISO 3166-2 Code        date  cases  deaths\n",
       "0              NI-BO  2020-03-17    NaN     NaN\n",
       "1              NI-BO  2020-03-18    1.0     0.0\n",
       "2              NI-BO  2020-03-19    3.0     0.0\n",
       "3              NI-BO  2020-03-20    4.0     0.0\n",
       "4              NI-BO  2020-03-21    3.0     0.0\n",
       "...              ...         ...    ...     ...\n",
       "7016           NI-RI  2021-05-21  680.0    87.0\n",
       "7017           NI-RI  2021-05-22  699.0    87.0\n",
       "7018           NI-RI  2021-05-23  718.0    87.0\n",
       "7019           NI-RI  2021-05-24  737.0    87.0\n",
       "7020           NI-RI  2021-05-25  757.0    87.0\n",
       "\n",
       "[7021 rows x 4 columns]"
      ],
      "text/html": "<div>\n<style scoped>\n    .dataframe tbody tr th:only-of-type {\n        vertical-align: middle;\n    }\n\n    .dataframe tbody tr th {\n        vertical-align: top;\n    }\n\n    .dataframe thead th {\n        text-align: right;\n    }\n</style>\n<table border=\"1\" class=\"dataframe\">\n  <thead>\n    <tr style=\"text-align: right;\">\n      <th></th>\n      <th>ISO 3166-2 Code</th>\n      <th>date</th>\n      <th>cases</th>\n      <th>deaths</th>\n    </tr>\n  </thead>\n  <tbody>\n    <tr>\n      <th>0</th>\n      <td>NI-BO</td>\n      <td>2020-03-17</td>\n      <td>NaN</td>\n      <td>NaN</td>\n    </tr>\n    <tr>\n      <th>1</th>\n      <td>NI-BO</td>\n      <td>2020-03-18</td>\n      <td>1.0</td>\n      <td>0.0</td>\n    </tr>\n    <tr>\n      <th>2</th>\n      <td>NI-BO</td>\n      <td>2020-03-19</td>\n      <td>3.0</td>\n      <td>0.0</td>\n    </tr>\n    <tr>\n      <th>3</th>\n      <td>NI-BO</td>\n      <td>2020-03-20</td>\n      <td>4.0</td>\n      <td>0.0</td>\n    </tr>\n    <tr>\n      <th>4</th>\n      <td>NI-BO</td>\n      <td>2020-03-21</td>\n      <td>3.0</td>\n      <td>0.0</td>\n    </tr>\n    <tr>\n      <th>...</th>\n      <td>...</td>\n      <td>...</td>\n      <td>...</td>\n      <td>...</td>\n    </tr>\n    <tr>\n      <th>7016</th>\n      <td>NI-RI</td>\n      <td>2021-05-21</td>\n      <td>680.0</td>\n      <td>87.0</td>\n    </tr>\n    <tr>\n      <th>7017</th>\n      <td>NI-RI</td>\n      <td>2021-05-22</td>\n      <td>699.0</td>\n      <td>87.0</td>\n    </tr>\n    <tr>\n      <th>7018</th>\n      <td>NI-RI</td>\n      <td>2021-05-23</td>\n      <td>718.0</td>\n      <td>87.0</td>\n    </tr>\n    <tr>\n      <th>7019</th>\n      <td>NI-RI</td>\n      <td>2021-05-24</td>\n      <td>737.0</td>\n      <td>87.0</td>\n    </tr>\n    <tr>\n      <th>7020</th>\n      <td>NI-RI</td>\n      <td>2021-05-25</td>\n      <td>757.0</td>\n      <td>87.0</td>\n    </tr>\n  </tbody>\n</table>\n<p>7021 rows × 4 columns</p>\n</div>"
     },
     "metadata": {},
     "execution_count": 225
    }
   ],
   "source": [
    "df_complete=df_complete.reset_index()\n",
    "df_complete"
   ]
  },
  {
   "cell_type": "code",
   "execution_count": 240,
   "metadata": {},
   "outputs": [
    {
     "output_type": "execute_result",
     "data": {
      "text/plain": [
       "19082.0"
      ]
     },
     "metadata": {},
     "execution_count": 240
    }
   ],
   "source": [
    "df_complete[df_complete['date']=='2021-05-20']['cases'].sum()"
   ]
  },
  {
   "cell_type": "code",
   "execution_count": 238,
   "metadata": {},
   "outputs": [],
   "source": [
    "df_original=df_original.reset_index()"
   ]
  },
  {
   "cell_type": "code",
   "execution_count": 239,
   "metadata": {},
   "outputs": [
    {
     "output_type": "execute_result",
     "data": {
      "text/plain": [
       "11324"
      ]
     },
     "metadata": {},
     "execution_count": 239
    }
   ],
   "source": [
    "df_original[df_original['date']=='2021-05-20']['cases'].sum()"
   ]
  },
  {
   "cell_type": "code",
   "execution_count": 144,
   "metadata": {},
   "outputs": [],
   "source": [
    "df_original=df_original.reset_index()\n"
   ]
  }
 ],
 "metadata": {
  "kernelspec": {
   "display_name": "Python 3",
   "language": "python",
   "name": "python3"
  },
  "language_info": {
   "codemirror_mode": {
    "name": "ipython",
    "version": 3
   },
   "file_extension": ".py",
   "mimetype": "text/x-python",
   "name": "python",
   "nbconvert_exporter": "python",
   "pygments_lexer": "ipython3",
   "version": "3.9.5"
  }
 },
 "nbformat": 4,
 "nbformat_minor": 5
}