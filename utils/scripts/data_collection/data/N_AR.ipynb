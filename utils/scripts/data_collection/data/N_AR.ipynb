{
 "cells": [
  {
   "cell_type": "code",
   "execution_count": 1,
   "id": "1d4b6d28-2b6e-491b-a326-62cdafb645c9",
   "metadata": {},
   "outputs": [],
   "source": [
    "import os\n",
    "from datetime import datetime, timedelta\n",
    "import numpy as np\n",
    "import pandas as pd"
   ]
  },
  {
   "cell_type": "code",
   "execution_count": 2,
   "id": "8c482346-05bb-4cdd-8ef1-76b6943fda58",
   "metadata": {},
   "outputs": [],
   "source": [
    "DATA_URL_CONFIRMED = 'https://docs.google.com/spreadsheets/d/16-bnsDdmmgtSxdWbVMboIHo5FRuz76DBxsz_BbsEVWA/export?format=csv&id=16-bnsDdmmgtSxdWbVMboIHo5FRuz76DBxsz_BbsEVWA&gid=0'\n",
    "DATA_TEMPLATE_URL = 'https://raw.githubusercontent.com/DataScienceResearchPeru/covid-19_latinoamerica/master/latam_covid_19_data/templates/daily_report.csv'\n",
    "PATH_CSV = \"utils/scripts/data_collection/data/argentina_temporal/\"\n",
    "PATH_DSRP_DAILY_REPORTS = 'latam_covid_19_data/daily_reports/'\n",
    "LAST_UPDATE = datetime.today().isoformat()\n"
   ]
  },
  {
   "cell_type": "code",
   "execution_count": 21,
   "id": "8952ae52-1259-4b51-a295-089dc2953aa6",
   "metadata": {},
   "outputs": [
    {
     "data": {
      "text/html": [
       "<div>\n",
       "<style scoped>\n",
       "    .dataframe tbody tr th:only-of-type {\n",
       "        vertical-align: middle;\n",
       "    }\n",
       "\n",
       "    .dataframe tbody tr th {\n",
       "        vertical-align: top;\n",
       "    }\n",
       "\n",
       "    .dataframe thead th {\n",
       "        text-align: right;\n",
       "    }\n",
       "</style>\n",
       "<table border=\"1\" class=\"dataframe\">\n",
       "  <thead>\n",
       "    <tr style=\"text-align: right;\">\n",
       "      <th></th>\n",
       "      <th>fecha</th>\n",
       "      <th>osm_admin_level_4</th>\n",
       "      <th>nue_casosconf_diff</th>\n",
       "      <th>nue_fallecidos_diff</th>\n",
       "    </tr>\n",
       "  </thead>\n",
       "  <tbody>\n",
       "    <tr>\n",
       "      <th>0</th>\n",
       "      <td>2020-02-03</td>\n",
       "      <td>CABA</td>\n",
       "      <td>1.0</td>\n",
       "      <td>0.0</td>\n",
       "    </tr>\n",
       "    <tr>\n",
       "      <th>1</th>\n",
       "      <td>2020-03-03</td>\n",
       "      <td>Indeterminado</td>\n",
       "      <td>0.0</td>\n",
       "      <td>0.0</td>\n",
       "    </tr>\n",
       "    <tr>\n",
       "      <th>2</th>\n",
       "      <td>2020-04-03</td>\n",
       "      <td>Indeterminado</td>\n",
       "      <td>0.0</td>\n",
       "      <td>0.0</td>\n",
       "    </tr>\n",
       "    <tr>\n",
       "      <th>3</th>\n",
       "      <td>2020-05-03</td>\n",
       "      <td>Buenos Aires</td>\n",
       "      <td>1.0</td>\n",
       "      <td>2.0</td>\n",
       "    </tr>\n",
       "    <tr>\n",
       "      <th>4</th>\n",
       "      <td>2020-06-03</td>\n",
       "      <td>Indeterminado</td>\n",
       "      <td>0.0</td>\n",
       "      <td>0.0</td>\n",
       "    </tr>\n",
       "    <tr>\n",
       "      <th>...</th>\n",
       "      <td>...</td>\n",
       "      <td>...</td>\n",
       "      <td>...</td>\n",
       "      <td>...</td>\n",
       "    </tr>\n",
       "    <tr>\n",
       "      <th>9862</th>\n",
       "      <td>2021-05-20</td>\n",
       "      <td>Santa Fe</td>\n",
       "      <td>2947.0</td>\n",
       "      <td>67.0</td>\n",
       "    </tr>\n",
       "    <tr>\n",
       "      <th>9863</th>\n",
       "      <td>2021-05-20</td>\n",
       "      <td>Santiago del Estero</td>\n",
       "      <td>790.0</td>\n",
       "      <td>9.0</td>\n",
       "    </tr>\n",
       "    <tr>\n",
       "      <th>9864</th>\n",
       "      <td>2021-05-20</td>\n",
       "      <td>Tierra del Fuego</td>\n",
       "      <td>90.0</td>\n",
       "      <td>0.0</td>\n",
       "    </tr>\n",
       "    <tr>\n",
       "      <th>9865</th>\n",
       "      <td>2021-05-20</td>\n",
       "      <td>Tucumán</td>\n",
       "      <td>957.0</td>\n",
       "      <td>26.0</td>\n",
       "    </tr>\n",
       "    <tr>\n",
       "      <th>9866</th>\n",
       "      <td>2021-05-20</td>\n",
       "      <td>Indeterminado</td>\n",
       "      <td>0.0</td>\n",
       "      <td>0.0</td>\n",
       "    </tr>\n",
       "  </tbody>\n",
       "</table>\n",
       "<p>9867 rows × 4 columns</p>\n",
       "</div>"
      ],
      "text/plain": [
       "          fecha    osm_admin_level_4  nue_casosconf_diff  nue_fallecidos_diff\n",
       "0    2020-02-03                 CABA                 1.0                  0.0\n",
       "1    2020-03-03        Indeterminado                 0.0                  0.0\n",
       "2    2020-04-03        Indeterminado                 0.0                  0.0\n",
       "3    2020-05-03         Buenos Aires                 1.0                  2.0\n",
       "4    2020-06-03        Indeterminado                 0.0                  0.0\n",
       "...         ...                  ...                 ...                  ...\n",
       "9862 2021-05-20             Santa Fe              2947.0                 67.0\n",
       "9863 2021-05-20  Santiago del Estero               790.0                  9.0\n",
       "9864 2021-05-20     Tierra del Fuego                90.0                  0.0\n",
       "9865 2021-05-20              Tucumán               957.0                 26.0\n",
       "9866 2021-05-20        Indeterminado                 0.0                  0.0\n",
       "\n",
       "[9867 rows x 4 columns]"
      ]
     },
     "execution_count": 21,
     "metadata": {},
     "output_type": "execute_result"
    }
   ],
   "source": [
    "df = pd.read_csv(DATA_URL_CONFIRMED,usecols=['fecha','osm_admin_level_4','nue_casosconf_diff','nue_fallecidos_diff'],parse_dates=['fecha'])\n",
    "df=df.fillna(0)\n",
    "df"
   ]
  },
  {
   "cell_type": "code",
   "execution_count": 39,
   "id": "aad3d2af-41a3-4a59-b578-e333a0e24b25",
   "metadata": {},
   "outputs": [
    {
     "data": {
      "text/html": [
       "<div>\n",
       "<style scoped>\n",
       "    .dataframe tbody tr th:only-of-type {\n",
       "        vertical-align: middle;\n",
       "    }\n",
       "\n",
       "    .dataframe tbody tr th {\n",
       "        vertical-align: top;\n",
       "    }\n",
       "\n",
       "    .dataframe thead th {\n",
       "        text-align: right;\n",
       "    }\n",
       "</style>\n",
       "<table border=\"1\" class=\"dataframe\">\n",
       "  <thead>\n",
       "    <tr style=\"text-align: right;\">\n",
       "      <th></th>\n",
       "      <th>fecha</th>\n",
       "      <th>osm_admin_level_4</th>\n",
       "      <th>nue_casosconf_diff</th>\n",
       "      <th>nue_fallecidos_diff</th>\n",
       "    </tr>\n",
       "  </thead>\n",
       "  <tbody>\n",
       "    <tr>\n",
       "      <th>0</th>\n",
       "      <td>2020-01-04</td>\n",
       "      <td>Buenos Aires</td>\n",
       "      <td>10.0</td>\n",
       "      <td>2.0</td>\n",
       "    </tr>\n",
       "    <tr>\n",
       "      <th>1</th>\n",
       "      <td>2020-01-04</td>\n",
       "      <td>CABA</td>\n",
       "      <td>20.0</td>\n",
       "      <td>3.0</td>\n",
       "    </tr>\n",
       "    <tr>\n",
       "      <th>2</th>\n",
       "      <td>2020-01-04</td>\n",
       "      <td>Chaco</td>\n",
       "      <td>32.0</td>\n",
       "      <td>3.0</td>\n",
       "    </tr>\n",
       "    <tr>\n",
       "      <th>3</th>\n",
       "      <td>2020-01-04</td>\n",
       "      <td>Corrientes</td>\n",
       "      <td>33.0</td>\n",
       "      <td>3.0</td>\n",
       "    </tr>\n",
       "    <tr>\n",
       "      <th>4</th>\n",
       "      <td>2020-01-04</td>\n",
       "      <td>Córdoba</td>\n",
       "      <td>39.0</td>\n",
       "      <td>3.0</td>\n",
       "    </tr>\n",
       "    <tr>\n",
       "      <th>...</th>\n",
       "      <td>...</td>\n",
       "      <td>...</td>\n",
       "      <td>...</td>\n",
       "      <td>...</td>\n",
       "    </tr>\n",
       "    <tr>\n",
       "      <th>9727</th>\n",
       "      <td>2021-12-05</td>\n",
       "      <td>Santa Cruz</td>\n",
       "      <td>21141.0</td>\n",
       "      <td>460.0</td>\n",
       "    </tr>\n",
       "    <tr>\n",
       "      <th>9728</th>\n",
       "      <td>2021-12-05</td>\n",
       "      <td>Santa Fe</td>\n",
       "      <td>23410.0</td>\n",
       "      <td>484.0</td>\n",
       "    </tr>\n",
       "    <tr>\n",
       "      <th>9729</th>\n",
       "      <td>2021-12-05</td>\n",
       "      <td>Santiago del Estero</td>\n",
       "      <td>23752.0</td>\n",
       "      <td>487.0</td>\n",
       "    </tr>\n",
       "    <tr>\n",
       "      <th>9730</th>\n",
       "      <td>2021-12-05</td>\n",
       "      <td>Tierra del Fuego</td>\n",
       "      <td>23846.0</td>\n",
       "      <td>488.0</td>\n",
       "    </tr>\n",
       "    <tr>\n",
       "      <th>9731</th>\n",
       "      <td>2021-12-05</td>\n",
       "      <td>Tucumán</td>\n",
       "      <td>24475.0</td>\n",
       "      <td>495.0</td>\n",
       "    </tr>\n",
       "  </tbody>\n",
       "</table>\n",
       "<p>9732 rows × 4 columns</p>\n",
       "</div>"
      ],
      "text/plain": [
       "          fecha    osm_admin_level_4  nue_casosconf_diff  nue_fallecidos_diff\n",
       "0    2020-01-04         Buenos Aires                10.0                  2.0\n",
       "1    2020-01-04                 CABA                20.0                  3.0\n",
       "2    2020-01-04                Chaco                32.0                  3.0\n",
       "3    2020-01-04           Corrientes                33.0                  3.0\n",
       "4    2020-01-04              Córdoba                39.0                  3.0\n",
       "...         ...                  ...                 ...                  ...\n",
       "9727 2021-12-05           Santa Cruz             21141.0                460.0\n",
       "9728 2021-12-05             Santa Fe             23410.0                484.0\n",
       "9729 2021-12-05  Santiago del Estero             23752.0                487.0\n",
       "9730 2021-12-05     Tierra del Fuego             23846.0                488.0\n",
       "9731 2021-12-05              Tucumán             24475.0                495.0\n",
       "\n",
       "[9732 rows x 4 columns]"
      ]
     },
     "execution_count": 39,
     "metadata": {},
     "output_type": "execute_result"
    }
   ],
   "source": [
    "df_summary=df.groupby(['fecha','osm_admin_level_4']).sum()\\\n",
    "        .groupby(level=0).cumsum().reset_index()\n",
    "df_summary"
   ]
  },
  {
   "cell_type": "code",
   "execution_count": 42,
   "id": "941f9163-d811-4300-ab32-0d96a29605c2",
   "metadata": {},
   "outputs": [
    {
     "data": {
      "text/plain": [
       "9815.0"
      ]
     },
     "execution_count": 42,
     "metadata": {},
     "output_type": "execute_result"
    }
   ],
   "source": [
    "df_summary.loc[df_summary['fecha']=='2021-05-19']['nue_fallecidos_diff'].sum()"
   ]
  },
  {
   "cell_type": "code",
   "execution_count": 44,
   "id": "454e3790-f569-4743-aced-335742999270",
   "metadata": {},
   "outputs": [
    {
     "data": {
      "text/plain": [
       "16069.0"
      ]
     },
     "execution_count": 44,
     "metadata": {},
     "output_type": "execute_result"
    }
   ],
   "source": [
    "df_summary.loc[df_summary['fecha']=='2021-05-18']['nue_fallecidos_diff'].sum()"
   ]
  },
  {
   "cell_type": "code",
   "execution_count": 45,
   "id": "6f41ebfb-2d9d-49e3-8662-5a8d6db6ab19",
   "metadata": {},
   "outputs": [
    {
     "data": {
      "text/plain": [
       "-6254"
      ]
     },
     "execution_count": 45,
     "metadata": {},
     "output_type": "execute_result"
    }
   ],
   "source": [
    "9815-16069"
   ]
  },
  {
   "cell_type": "code",
   "execution_count": null,
   "id": "0860c95c-1b6e-43b3-badf-f30f12da6e03",
   "metadata": {},
   "outputs": [],
   "source": [
    "DICT_PLACES = {'Buenos Aires':'AR-B',\n",
    "               'CABA':'AR-C',\n",
    "               'Catamarca':'AR-K',\n",
    "               'Chaco':'AR-H',\n",
    "               'Chubut':'AR-U',\n",
    "               'Corrientes':'AR-W',\n",
    "               'Córdoba':'AR-X',\n",
    "               'Entre Ríos':'AR-E',\n",
    "               'Formosa':'AR-P',\n",
    "               'Indeterminado':'',\n",
    "               'Jujuy':'AR-Y',\n",
    "               'La Pampa':'AR-L',\n",
    "               'La Rioja': 'AR-F',\n",
    "               'Mendoza':'AR-M',\n",
    "               'Misiones': 'AR-N',\n",
    "               'Neuquén':'AR-Q',\n",
    "               'Río Negro':'AR-R',\n",
    "               'Salta':'AR-A',\n",
    "               'San Juan':'AR-J',\n",
    "               'San Luis':'AR-D',\n",
    "               'Santa Cruz':'AR-Z',\n",
    "               'Santa Fe':'AR-S',\n",
    "               'Santiago del Estero':'AR-G',\n",
    "               'Tierra del Fuego':'AR-V',\n",
    "               'Tucumán':'AR-T'\n",
    "              }"
   ]
  }
 ],
 "metadata": {
  "kernelspec": {
   "display_name": "Python 3",
   "language": "python",
   "name": "python3"
  },
  "language_info": {
   "codemirror_mode": {
    "name": "ipython",
    "version": 3
   },
   "file_extension": ".py",
   "mimetype": "text/x-python",
   "name": "python",
   "nbconvert_exporter": "python",
   "pygments_lexer": "ipython3",
   "version": "3.9.4"
  }
 },
 "nbformat": 4,
 "nbformat_minor": 5
}
