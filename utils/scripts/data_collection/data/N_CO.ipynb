{
 "cells": [
  {
   "cell_type": "code",
   "execution_count": 3,
   "id": "16cece77-84e8-44c7-b817-0244ae2e36a6",
   "metadata": {
    "tags": []
   },
   "outputs": [],
   "source": [
    "import os\n",
    "from datetime import datetime, timedelta\n",
    "import numpy as np\n",
    "import pandas as pd"
   ]
  },
  {
   "cell_type": "code",
   "execution_count": 91,
   "id": "aaee263f-4af5-4920-ab9a-5bd70bdcd5bd",
   "metadata": {},
   "outputs": [
    {
     "output_type": "execute_result",
     "data": {
      "text/plain": [
       "'2021-05-26T01:29:37.211981'"
      ]
     },
     "metadata": {},
     "execution_count": 91
    }
   ],
   "source": [
    "DATA_URL_CONFIRMED = 'https://raw.githubusercontent.com/danielcs88/colombia_covid-19/master/datos/cronologia.csv'\n",
    "DATA_TEMPLATE_URL = 'https://raw.githubusercontent.com/DataScienceResearchPeru/covid-19_latinoamerica/master/latam_covid_19_data/templates/daily_report.csv'\n",
    "PATH_CSV = \"utils/scripts/data_collection/data/colombia_temporal/\"\n",
    "PATH_DSRP_DAILY_REPORTS = 'latam_covid_19_data/daily_reports/'\n",
    "LAST_UPDATE = datetime.today().isoformat()\n",
    "DICT_PLACES = {\n",
    "'Amazonas': 'CO-AMA',\n",
    "'Antioquia': 'CO-ANT',\n",
    "'Arauca': 'CO-ARA',\n",
    "'Atlántico': 'CO-ATL',\n",
    "'Bogotá D.C.': 'CO-DC',\n",
    "'Bolívar': 'CO-BOL',\n",
    "'Boyacá': 'CO-BOY',\n",
    "'Caldas': 'CO-CAL',\n",
    "'Caquetá': 'CO-CAQ',\n",
    "'Casanare': 'CO-CAS',\n",
    "'Cauca': 'CO-CAU',\n",
    "'Cesar': 'CO-CES',\n",
    "'Chocó': 'CO-COR',\n",
    "'Córdoba': 'CO-CUN',\n",
    "'Cundinamarca': 'CO-CHO',\n",
    "'Guainía': 'CO-GUA',\n",
    "'Guaviare': 'CO-GUV',\n",
    "'Huila': 'CO-HUI',\n",
    "'La Guajira': 'CO-LAG',\n",
    "'Magdalena': 'CO-MAG',\n",
    "'Meta': 'CO-MET',\n",
    "'Nariño': 'CO-NAR',\n",
    "'Norte de Santander': 'CO-NSA',\n",
    "'Putumayo': 'CO-PUT',\n",
    "'Quindío': 'CO-QUI',\n",
    "'Risaralda': 'CO-RIS',\n",
    "'San Andrés y Providencia': 'CO-SAP',\n",
    "'Santander': 'CO-SAN',\n",
    "'Sucre': 'CO-SUC',\n",
    "'Tolima': 'CO-TOL',\n",
    "'Valle del Cauca': 'CO-VAC',\n",
    "'Vaupés': 'CO-VAU',\n",
    "'Vichada': 'CO-VID',\n",
    "}"
   ]
  },
  {
   "cell_type": "code",
   "execution_count": 99,
   "id": "660adb9e-9530-423a-9248-6ce44fd0193d",
   "metadata": {},
   "outputs": [
    {
     "output_type": "execute_result",
     "data": {
      "text/plain": [
       "   ISO 3166-2 Code   casos\n",
       "0           CO-VAU    1509\n",
       "1           CO-GUA    1705\n",
       "2           CO-VID    1762\n",
       "3           CO-GUV    2883\n",
       "4           CO-SAP    5313\n",
       "5           CO-AMA    6319\n",
       "6           CO-ARA    7455\n",
       "7           CO-COR   10971\n",
       "8           CO-PUT   11689\n",
       "9           CO-CAQ   18140\n",
       "10          CO-CAS   19749\n",
       "11          CO-CAU   33521\n",
       "12          CO-SUC   33966\n",
       "13          CO-LAG   35594\n",
       "14          CO-QUI   43232\n",
       "15          CO-MET   51431\n",
       "16          CO-HUI   57723\n",
       "17          CO-NSA   60013\n",
       "18          CO-NAR   61456\n",
       "19          CO-RIS   61666\n",
       "20          CO-CUN   61757\n",
       "21          CO-BOY   64451\n",
       "22          CO-CES   66237\n",
       "23          CO-MAG   68773\n",
       "24          CO-CAL   69128\n",
       "25          CO-TOL   74567\n",
       "26          CO-BOL   98609\n",
       "27          CO-SAN  127827\n",
       "28          CO-CHO  155201\n",
       "29          CO-VAC  262104\n",
       "30          CO-ATL  268893\n",
       "31          CO-ANT  526190\n",
       "32           CO-DC  924265"
      ],
      "text/html": "<div>\n<style scoped>\n    .dataframe tbody tr th:only-of-type {\n        vertical-align: middle;\n    }\n\n    .dataframe tbody tr th {\n        vertical-align: top;\n    }\n\n    .dataframe thead th {\n        text-align: right;\n    }\n</style>\n<table border=\"1\" class=\"dataframe\">\n  <thead>\n    <tr style=\"text-align: right;\">\n      <th></th>\n      <th>ISO 3166-2 Code</th>\n      <th>casos</th>\n    </tr>\n  </thead>\n  <tbody>\n    <tr>\n      <th>0</th>\n      <td>CO-VAU</td>\n      <td>1509</td>\n    </tr>\n    <tr>\n      <th>1</th>\n      <td>CO-GUA</td>\n      <td>1705</td>\n    </tr>\n    <tr>\n      <th>2</th>\n      <td>CO-VID</td>\n      <td>1762</td>\n    </tr>\n    <tr>\n      <th>3</th>\n      <td>CO-GUV</td>\n      <td>2883</td>\n    </tr>\n    <tr>\n      <th>4</th>\n      <td>CO-SAP</td>\n      <td>5313</td>\n    </tr>\n    <tr>\n      <th>5</th>\n      <td>CO-AMA</td>\n      <td>6319</td>\n    </tr>\n    <tr>\n      <th>6</th>\n      <td>CO-ARA</td>\n      <td>7455</td>\n    </tr>\n    <tr>\n      <th>7</th>\n      <td>CO-COR</td>\n      <td>10971</td>\n    </tr>\n    <tr>\n      <th>8</th>\n      <td>CO-PUT</td>\n      <td>11689</td>\n    </tr>\n    <tr>\n      <th>9</th>\n      <td>CO-CAQ</td>\n      <td>18140</td>\n    </tr>\n    <tr>\n      <th>10</th>\n      <td>CO-CAS</td>\n      <td>19749</td>\n    </tr>\n    <tr>\n      <th>11</th>\n      <td>CO-CAU</td>\n      <td>33521</td>\n    </tr>\n    <tr>\n      <th>12</th>\n      <td>CO-SUC</td>\n      <td>33966</td>\n    </tr>\n    <tr>\n      <th>13</th>\n      <td>CO-LAG</td>\n      <td>35594</td>\n    </tr>\n    <tr>\n      <th>14</th>\n      <td>CO-QUI</td>\n      <td>43232</td>\n    </tr>\n    <tr>\n      <th>15</th>\n      <td>CO-MET</td>\n      <td>51431</td>\n    </tr>\n    <tr>\n      <th>16</th>\n      <td>CO-HUI</td>\n      <td>57723</td>\n    </tr>\n    <tr>\n      <th>17</th>\n      <td>CO-NSA</td>\n      <td>60013</td>\n    </tr>\n    <tr>\n      <th>18</th>\n      <td>CO-NAR</td>\n      <td>61456</td>\n    </tr>\n    <tr>\n      <th>19</th>\n      <td>CO-RIS</td>\n      <td>61666</td>\n    </tr>\n    <tr>\n      <th>20</th>\n      <td>CO-CUN</td>\n      <td>61757</td>\n    </tr>\n    <tr>\n      <th>21</th>\n      <td>CO-BOY</td>\n      <td>64451</td>\n    </tr>\n    <tr>\n      <th>22</th>\n      <td>CO-CES</td>\n      <td>66237</td>\n    </tr>\n    <tr>\n      <th>23</th>\n      <td>CO-MAG</td>\n      <td>68773</td>\n    </tr>\n    <tr>\n      <th>24</th>\n      <td>CO-CAL</td>\n      <td>69128</td>\n    </tr>\n    <tr>\n      <th>25</th>\n      <td>CO-TOL</td>\n      <td>74567</td>\n    </tr>\n    <tr>\n      <th>26</th>\n      <td>CO-BOL</td>\n      <td>98609</td>\n    </tr>\n    <tr>\n      <th>27</th>\n      <td>CO-SAN</td>\n      <td>127827</td>\n    </tr>\n    <tr>\n      <th>28</th>\n      <td>CO-CHO</td>\n      <td>155201</td>\n    </tr>\n    <tr>\n      <th>29</th>\n      <td>CO-VAC</td>\n      <td>262104</td>\n    </tr>\n    <tr>\n      <th>30</th>\n      <td>CO-ATL</td>\n      <td>268893</td>\n    </tr>\n    <tr>\n      <th>31</th>\n      <td>CO-ANT</td>\n      <td>526190</td>\n    </tr>\n    <tr>\n      <th>32</th>\n      <td>CO-DC</td>\n      <td>924265</td>\n    </tr>\n  </tbody>\n</table>\n</div>"
     },
     "metadata": {},
     "execution_count": 99
    }
   ],
   "source": [
    "df_confirmed=pd.read_csv(DATA_URL_CONFIRMED)\n",
    "df_confirmed=df_confirmed[df_confirmed.fecha == '2021-05-26']\n",
    "df_confirmed['casos']=df_confirmed['casos'].astype(int)\n",
    "df_confirmed['ISO 3166-2 Code']=df_confirmed['departamento'].map(DICT_PLACES)\n",
    "df_confirmed=df_confirmed.drop(['dp', 'departamento', 'fecha'], axis = 1).reset_index(drop=True)\n",
    "df_confirmed=df_confirmed[['ISO 3166-2 Code','casos']]\n",
    "df_confirmed"
   ]
  },
  {
   "cell_type": "code",
   "execution_count": 93,
   "id": "c0ea1673-d7e8-4a57-aa92-d998e3adb969",
   "metadata": {},
   "outputs": [
    {
     "output_type": "execute_result",
     "data": {
      "text/plain": [
       "  ISO 3166-2 Code    Country                      Subdivision Last Update  \\\n",
       "0            AR-B  Argentina                     Buenos Aires               \n",
       "1            AR-K  Argentina                        Catamarca               \n",
       "2            AR-H  Argentina                            Chaco               \n",
       "3            AR-U  Argentina                           Chubut               \n",
       "4            AR-C  Argentina  Ciudad Autonoma de Buenos Aires               \n",
       "\n",
       "   Confirmed  Deaths  Recovered  \n",
       "0          0       0          0  \n",
       "1          0       0          0  \n",
       "2          0       0          0  \n",
       "3          0       0          0  \n",
       "4          0       0          0  "
      ],
      "text/html": "<div>\n<style scoped>\n    .dataframe tbody tr th:only-of-type {\n        vertical-align: middle;\n    }\n\n    .dataframe tbody tr th {\n        vertical-align: top;\n    }\n\n    .dataframe thead th {\n        text-align: right;\n    }\n</style>\n<table border=\"1\" class=\"dataframe\">\n  <thead>\n    <tr style=\"text-align: right;\">\n      <th></th>\n      <th>ISO 3166-2 Code</th>\n      <th>Country</th>\n      <th>Subdivision</th>\n      <th>Last Update</th>\n      <th>Confirmed</th>\n      <th>Deaths</th>\n      <th>Recovered</th>\n    </tr>\n  </thead>\n  <tbody>\n    <tr>\n      <th>0</th>\n      <td>AR-B</td>\n      <td>Argentina</td>\n      <td>Buenos Aires</td>\n      <td></td>\n      <td>0</td>\n      <td>0</td>\n      <td>0</td>\n    </tr>\n    <tr>\n      <th>1</th>\n      <td>AR-K</td>\n      <td>Argentina</td>\n      <td>Catamarca</td>\n      <td></td>\n      <td>0</td>\n      <td>0</td>\n      <td>0</td>\n    </tr>\n    <tr>\n      <th>2</th>\n      <td>AR-H</td>\n      <td>Argentina</td>\n      <td>Chaco</td>\n      <td></td>\n      <td>0</td>\n      <td>0</td>\n      <td>0</td>\n    </tr>\n    <tr>\n      <th>3</th>\n      <td>AR-U</td>\n      <td>Argentina</td>\n      <td>Chubut</td>\n      <td></td>\n      <td>0</td>\n      <td>0</td>\n      <td>0</td>\n    </tr>\n    <tr>\n      <th>4</th>\n      <td>AR-C</td>\n      <td>Argentina</td>\n      <td>Ciudad Autonoma de Buenos Aires</td>\n      <td></td>\n      <td>0</td>\n      <td>0</td>\n      <td>0</td>\n    </tr>\n  </tbody>\n</table>\n</div>"
     },
     "metadata": {},
     "execution_count": 93
    }
   ],
   "source": [
    "df_template=pd.read_csv(DATA_TEMPLATE_URL)\n",
    "df_template=df_template.fillna(0)\n",
    "df_template['Confirmed']=df_template['Confirmed'].astype(int)\n",
    "df_template['Deaths']=df_template['Deaths'].astype(int)\n",
    "df_template['Recovered']=df_template['Recovered'].astype(int)\n",
    "df_template['Last Update']=''\n",
    "df_template.head()"
   ]
  },
  {
   "cell_type": "code",
   "execution_count": 94,
   "id": "53d4febe-9218-441c-aa5c-5ef0a27e20ae",
   "metadata": {},
   "outputs": [],
   "source": [
    "for country_region in df_confirmed['ISO 3166-2 Code']:\n",
    "    value_confirmed=df_confirmed.loc[df_confirmed['ISO 3166-2 Code']==country_region,'casos']\n",
    "    df_template.loc[df_template['ISO 3166-2 Code']==country_region,'Confirmed']=int(value_confirmed)\n"
   ]
  },
  {
   "cell_type": "code",
   "execution_count": 100,
   "id": "c386047c-970f-42ac-8125-a332a9e31dac",
   "metadata": {},
   "outputs": [
    {
     "output_type": "execute_result",
     "data": {
      "text/plain": [
       "    ISO 3166-2 Code   Country               Subdivision Last Update  \\\n",
       "76           CO-AMA  Colombia                  Amazonas               \n",
       "77           CO-ANT  Colombia                 Antioquia               \n",
       "78           CO-ARA  Colombia                    Arauca               \n",
       "79           CO-ATL  Colombia                 Atlantico               \n",
       "80            CO-DC  Colombia                    Bogota               \n",
       "81           CO-BOL  Colombia                   Bolivar               \n",
       "82           CO-BOY  Colombia                    Boyaca               \n",
       "83           CO-CAL  Colombia                    Caldas               \n",
       "84           CO-CAQ  Colombia                   Caqueta               \n",
       "85           CO-CAS  Colombia                  Casanare               \n",
       "86           CO-CAU  Colombia                     Cauca               \n",
       "87           CO-CES  Colombia                     Cesar               \n",
       "88           CO-COR  Colombia                     Choco               \n",
       "89           CO-CUN  Colombia                   Cordoba               \n",
       "90           CO-CHO  Colombia              Cundinamarca               \n",
       "91           CO-GUA  Colombia                   Guainia               \n",
       "92           CO-GUV  Colombia                  Guaviare               \n",
       "93           CO-HUI  Colombia                     Huila               \n",
       "94           CO-LAG  Colombia                La Guajira               \n",
       "95           CO-MAG  Colombia                 Magdalena               \n",
       "96           CO-MET  Colombia                      Meta               \n",
       "97           CO-NAR  Colombia                    Narino               \n",
       "98           CO-NSA  Colombia        Norte de Santander               \n",
       "99           CO-PUT  Colombia                  Putumayo               \n",
       "100          CO-QUI  Colombia                   Quindio               \n",
       "101          CO-RIS  Colombia                 Risaralda               \n",
       "102          CO-SAP  Colombia  San Andres y Providencia               \n",
       "103          CO-SAN  Colombia                 Santander               \n",
       "104          CO-SUC  Colombia                     Sucre               \n",
       "105          CO-TOL  Colombia                    Tolima               \n",
       "106          CO-VAC  Colombia           Valle del Cauca               \n",
       "107          CO-VAU  Colombia                    Vaupes               \n",
       "108          CO-VID  Colombia                   Vichada               \n",
       "\n",
       "     Confirmed  Deaths  Recovered  \n",
       "76        6319       0          0  \n",
       "77      526190       0          0  \n",
       "78        7455       0          0  \n",
       "79      268893       0          0  \n",
       "80      924265       0          0  \n",
       "81       98609       0          0  \n",
       "82       64451       0          0  \n",
       "83       69128       0          0  \n",
       "84       18140       0          0  \n",
       "85       19749       0          0  \n",
       "86       33521       0          0  \n",
       "87       66237       0          0  \n",
       "88       10971       0          0  \n",
       "89       61757       0          0  \n",
       "90      155201       0          0  \n",
       "91        1705       0          0  \n",
       "92        2883       0          0  \n",
       "93       57723       0          0  \n",
       "94       35594       0          0  \n",
       "95       68773       0          0  \n",
       "96       51431       0          0  \n",
       "97       61456       0          0  \n",
       "98       60013       0          0  \n",
       "99       11689       0          0  \n",
       "100      43232       0          0  \n",
       "101      61666       0          0  \n",
       "102       5313       0          0  \n",
       "103     127827       0          0  \n",
       "104      33966       0          0  \n",
       "105      74567       0          0  \n",
       "106     262104       0          0  \n",
       "107       1509       0          0  \n",
       "108       1762       0          0  "
      ],
      "text/html": "<div>\n<style scoped>\n    .dataframe tbody tr th:only-of-type {\n        vertical-align: middle;\n    }\n\n    .dataframe tbody tr th {\n        vertical-align: top;\n    }\n\n    .dataframe thead th {\n        text-align: right;\n    }\n</style>\n<table border=\"1\" class=\"dataframe\">\n  <thead>\n    <tr style=\"text-align: right;\">\n      <th></th>\n      <th>ISO 3166-2 Code</th>\n      <th>Country</th>\n      <th>Subdivision</th>\n      <th>Last Update</th>\n      <th>Confirmed</th>\n      <th>Deaths</th>\n      <th>Recovered</th>\n    </tr>\n  </thead>\n  <tbody>\n    <tr>\n      <th>76</th>\n      <td>CO-AMA</td>\n      <td>Colombia</td>\n      <td>Amazonas</td>\n      <td></td>\n      <td>6319</td>\n      <td>0</td>\n      <td>0</td>\n    </tr>\n    <tr>\n      <th>77</th>\n      <td>CO-ANT</td>\n      <td>Colombia</td>\n      <td>Antioquia</td>\n      <td></td>\n      <td>526190</td>\n      <td>0</td>\n      <td>0</td>\n    </tr>\n    <tr>\n      <th>78</th>\n      <td>CO-ARA</td>\n      <td>Colombia</td>\n      <td>Arauca</td>\n      <td></td>\n      <td>7455</td>\n      <td>0</td>\n      <td>0</td>\n    </tr>\n    <tr>\n      <th>79</th>\n      <td>CO-ATL</td>\n      <td>Colombia</td>\n      <td>Atlantico</td>\n      <td></td>\n      <td>268893</td>\n      <td>0</td>\n      <td>0</td>\n    </tr>\n    <tr>\n      <th>80</th>\n      <td>CO-DC</td>\n      <td>Colombia</td>\n      <td>Bogota</td>\n      <td></td>\n      <td>924265</td>\n      <td>0</td>\n      <td>0</td>\n    </tr>\n    <tr>\n      <th>81</th>\n      <td>CO-BOL</td>\n      <td>Colombia</td>\n      <td>Bolivar</td>\n      <td></td>\n      <td>98609</td>\n      <td>0</td>\n      <td>0</td>\n    </tr>\n    <tr>\n      <th>82</th>\n      <td>CO-BOY</td>\n      <td>Colombia</td>\n      <td>Boyaca</td>\n      <td></td>\n      <td>64451</td>\n      <td>0</td>\n      <td>0</td>\n    </tr>\n    <tr>\n      <th>83</th>\n      <td>CO-CAL</td>\n      <td>Colombia</td>\n      <td>Caldas</td>\n      <td></td>\n      <td>69128</td>\n      <td>0</td>\n      <td>0</td>\n    </tr>\n    <tr>\n      <th>84</th>\n      <td>CO-CAQ</td>\n      <td>Colombia</td>\n      <td>Caqueta</td>\n      <td></td>\n      <td>18140</td>\n      <td>0</td>\n      <td>0</td>\n    </tr>\n    <tr>\n      <th>85</th>\n      <td>CO-CAS</td>\n      <td>Colombia</td>\n      <td>Casanare</td>\n      <td></td>\n      <td>19749</td>\n      <td>0</td>\n      <td>0</td>\n    </tr>\n    <tr>\n      <th>86</th>\n      <td>CO-CAU</td>\n      <td>Colombia</td>\n      <td>Cauca</td>\n      <td></td>\n      <td>33521</td>\n      <td>0</td>\n      <td>0</td>\n    </tr>\n    <tr>\n      <th>87</th>\n      <td>CO-CES</td>\n      <td>Colombia</td>\n      <td>Cesar</td>\n      <td></td>\n      <td>66237</td>\n      <td>0</td>\n      <td>0</td>\n    </tr>\n    <tr>\n      <th>88</th>\n      <td>CO-COR</td>\n      <td>Colombia</td>\n      <td>Choco</td>\n      <td></td>\n      <td>10971</td>\n      <td>0</td>\n      <td>0</td>\n    </tr>\n    <tr>\n      <th>89</th>\n      <td>CO-CUN</td>\n      <td>Colombia</td>\n      <td>Cordoba</td>\n      <td></td>\n      <td>61757</td>\n      <td>0</td>\n      <td>0</td>\n    </tr>\n    <tr>\n      <th>90</th>\n      <td>CO-CHO</td>\n      <td>Colombia</td>\n      <td>Cundinamarca</td>\n      <td></td>\n      <td>155201</td>\n      <td>0</td>\n      <td>0</td>\n    </tr>\n    <tr>\n      <th>91</th>\n      <td>CO-GUA</td>\n      <td>Colombia</td>\n      <td>Guainia</td>\n      <td></td>\n      <td>1705</td>\n      <td>0</td>\n      <td>0</td>\n    </tr>\n    <tr>\n      <th>92</th>\n      <td>CO-GUV</td>\n      <td>Colombia</td>\n      <td>Guaviare</td>\n      <td></td>\n      <td>2883</td>\n      <td>0</td>\n      <td>0</td>\n    </tr>\n    <tr>\n      <th>93</th>\n      <td>CO-HUI</td>\n      <td>Colombia</td>\n      <td>Huila</td>\n      <td></td>\n      <td>57723</td>\n      <td>0</td>\n      <td>0</td>\n    </tr>\n    <tr>\n      <th>94</th>\n      <td>CO-LAG</td>\n      <td>Colombia</td>\n      <td>La Guajira</td>\n      <td></td>\n      <td>35594</td>\n      <td>0</td>\n      <td>0</td>\n    </tr>\n    <tr>\n      <th>95</th>\n      <td>CO-MAG</td>\n      <td>Colombia</td>\n      <td>Magdalena</td>\n      <td></td>\n      <td>68773</td>\n      <td>0</td>\n      <td>0</td>\n    </tr>\n    <tr>\n      <th>96</th>\n      <td>CO-MET</td>\n      <td>Colombia</td>\n      <td>Meta</td>\n      <td></td>\n      <td>51431</td>\n      <td>0</td>\n      <td>0</td>\n    </tr>\n    <tr>\n      <th>97</th>\n      <td>CO-NAR</td>\n      <td>Colombia</td>\n      <td>Narino</td>\n      <td></td>\n      <td>61456</td>\n      <td>0</td>\n      <td>0</td>\n    </tr>\n    <tr>\n      <th>98</th>\n      <td>CO-NSA</td>\n      <td>Colombia</td>\n      <td>Norte de Santander</td>\n      <td></td>\n      <td>60013</td>\n      <td>0</td>\n      <td>0</td>\n    </tr>\n    <tr>\n      <th>99</th>\n      <td>CO-PUT</td>\n      <td>Colombia</td>\n      <td>Putumayo</td>\n      <td></td>\n      <td>11689</td>\n      <td>0</td>\n      <td>0</td>\n    </tr>\n    <tr>\n      <th>100</th>\n      <td>CO-QUI</td>\n      <td>Colombia</td>\n      <td>Quindio</td>\n      <td></td>\n      <td>43232</td>\n      <td>0</td>\n      <td>0</td>\n    </tr>\n    <tr>\n      <th>101</th>\n      <td>CO-RIS</td>\n      <td>Colombia</td>\n      <td>Risaralda</td>\n      <td></td>\n      <td>61666</td>\n      <td>0</td>\n      <td>0</td>\n    </tr>\n    <tr>\n      <th>102</th>\n      <td>CO-SAP</td>\n      <td>Colombia</td>\n      <td>San Andres y Providencia</td>\n      <td></td>\n      <td>5313</td>\n      <td>0</td>\n      <td>0</td>\n    </tr>\n    <tr>\n      <th>103</th>\n      <td>CO-SAN</td>\n      <td>Colombia</td>\n      <td>Santander</td>\n      <td></td>\n      <td>127827</td>\n      <td>0</td>\n      <td>0</td>\n    </tr>\n    <tr>\n      <th>104</th>\n      <td>CO-SUC</td>\n      <td>Colombia</td>\n      <td>Sucre</td>\n      <td></td>\n      <td>33966</td>\n      <td>0</td>\n      <td>0</td>\n    </tr>\n    <tr>\n      <th>105</th>\n      <td>CO-TOL</td>\n      <td>Colombia</td>\n      <td>Tolima</td>\n      <td></td>\n      <td>74567</td>\n      <td>0</td>\n      <td>0</td>\n    </tr>\n    <tr>\n      <th>106</th>\n      <td>CO-VAC</td>\n      <td>Colombia</td>\n      <td>Valle del Cauca</td>\n      <td></td>\n      <td>262104</td>\n      <td>0</td>\n      <td>0</td>\n    </tr>\n    <tr>\n      <th>107</th>\n      <td>CO-VAU</td>\n      <td>Colombia</td>\n      <td>Vaupes</td>\n      <td></td>\n      <td>1509</td>\n      <td>0</td>\n      <td>0</td>\n    </tr>\n    <tr>\n      <th>108</th>\n      <td>CO-VID</td>\n      <td>Colombia</td>\n      <td>Vichada</td>\n      <td></td>\n      <td>1762</td>\n      <td>0</td>\n      <td>0</td>\n    </tr>\n  </tbody>\n</table>\n</div>"
     },
     "metadata": {},
     "execution_count": 100
    }
   ],
   "source": [
    "df_co=df_template[df_template['ISO 3166-2 Code'].str.contains('CO-')]\n",
    "df_co"
   ]
  }
 ],
 "metadata": {
  "kernelspec": {
   "display_name": "Python 3",
   "language": "python",
   "name": "python3"
  },
  "language_info": {
   "codemirror_mode": {
    "name": "ipython",
    "version": 3
   },
   "file_extension": ".py",
   "mimetype": "text/x-python",
   "name": "python",
   "nbconvert_exporter": "python",
   "pygments_lexer": "ipython3",
   "version": "3.8.5"
  }
 },
 "nbformat": 4,
 "nbformat_minor": 5
}