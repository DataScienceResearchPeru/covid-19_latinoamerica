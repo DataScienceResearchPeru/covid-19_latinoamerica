{
 "cells": [
  {
   "cell_type": "code",
   "execution_count": 1,
   "id": "66719e89-eb51-41e2-91ff-d28060d50aad",
   "metadata": {},
   "outputs": [],
   "source": [
    "import os\n",
    "from datetime import datetime, timedelta\n",
    "import numpy as np\n",
    "import pandas as pd"
   ]
  },
  {
   "cell_type": "code",
   "execution_count": 3,
   "id": "3e731b92-4c20-4a4c-8249-e63d0175844d",
   "metadata": {},
   "outputs": [],
   "source": [
    "DATA_URL = 'https://geovision.uned.ac.cr/oges/archivos_covid/2021_05_28/05_28_21_EXCEL_SERIES.xlsx'\n",
    "SHEET_CONFIRMED_NAME = '2_1CANT_ACUMULADOS'\n",
    "SHEET_DEATHS_NAME = '2_3 CANT_FALLECIDOS'\n",
    "SHEET_RECOVRED_NAME = '2_2 CANT_RECUPERADOS'\n",
    "DATA_TEMPLATE_URL = 'https://raw.githubusercontent.com/DataScienceResearchPeru/covid-19_latinoamerica/master/latam_covid_19_data/templates/daily_report.csv'\n",
    "PATH_CSV = \"utils/scripts/data_collection/data/costa_rica_temporal/\"\n",
    "PATH_DSRP_DAILY_REPORTS = 'latam_covid_19_data/daily_reports/'\n",
    "LAST_UPDATE = datetime.today().isoformat()\n",
    "DICT_PLACES = {'Alajuela':'CR-A',\n",
    "                'Cartago':'CR-C',\n",
    "                'Guanacaste': 'CR-G',\n",
    "                'Heredia' :'CR-H',\n",
    "                'Limón': 'CR-L',\n",
    "                'Puntarenas': 'CR-P',\n",
    "                'San José': 'CR-SJ'}"
   ]
  },
  {
   "cell_type": "code",
   "execution_count": 10,
   "metadata": {},
   "outputs": [],
   "source": [
    "xls = pd.ExcelFile(DATA_URL)"
   ]
  },
  {
   "cell_type": "code",
   "execution_count": 4,
   "id": "93ab50c7-654f-449e-9fce-bf2da4797616",
   "metadata": {},
   "outputs": [
    {
     "output_type": "execute_result",
     "data": {
      "text/plain": [
       "   cod_provin provincia  cod_canton        canton  2020-03-15 00:00:00  \\\n",
       "0           1  San José         112        Acosta                    0   \n",
       "1           1  San José         110    Alajuelita                    0   \n",
       "2           1  San José         106        Aserrí                    0   \n",
       "3           1  San José         118    Curridabat                    0   \n",
       "4           1  San José         103  Desamparados                    4   \n",
       "\n",
       "   2020-03-16 00:00:00  2020-03-17 00:00:00  2020-03-18 00:00:00  \\\n",
       "0                    0                    0                    0   \n",
       "1                    0                    0                    0   \n",
       "2                    0                    0                    0   \n",
       "3                    0                    1                    2   \n",
       "4                    4                    4                    4   \n",
       "\n",
       "   2020-03-19 00:00:00  2020-03-20 00:00:00  ...  2021-05-19 00:00:00  \\\n",
       "0                    0                    0  ...                 1149   \n",
       "1                    0                    0  ...                 8263   \n",
       "2                    0                    0  ...                 2986   \n",
       "3                    3                    5  ...                 5401   \n",
       "4                    4                    5  ...                14927   \n",
       "\n",
       "   2021-05-20 00:00:00  2021-05-21 00:00:00  2021-05-22 00:00:00  \\\n",
       "0                 1156                 1162                 1168   \n",
       "1                 8305                 8336                 8375   \n",
       "2                 3029                 3070                 3093   \n",
       "3                 5450                 5493                 5527   \n",
       "4                15076                15195                15320   \n",
       "\n",
       "   2021-05-23 00:00:00  2021-05-24 00:00:00  2021-05-25 00:00:00  \\\n",
       "0                 1172                 1183                 1191   \n",
       "1                 8413                 8443                 8481   \n",
       "2                 3109                 3126                 3163   \n",
       "3                 5554                 5559                 5593   \n",
       "4                15420                15482                15579   \n",
       "\n",
       "   2021-05-26 00:00:00  2021-05-27 00:00:00  2021-05-28 00:00:00  \n",
       "0                 1194                 1200                 1210  \n",
       "1                 8516                 8565                 8601  \n",
       "2                 3206                 3247                 3265  \n",
       "3                 5643                 5673                 5710  \n",
       "4                15708                15830                15954  \n",
       "\n",
       "[5 rows x 444 columns]"
      ],
      "text/html": "<div>\n<style scoped>\n    .dataframe tbody tr th:only-of-type {\n        vertical-align: middle;\n    }\n\n    .dataframe tbody tr th {\n        vertical-align: top;\n    }\n\n    .dataframe thead th {\n        text-align: right;\n    }\n</style>\n<table border=\"1\" class=\"dataframe\">\n  <thead>\n    <tr style=\"text-align: right;\">\n      <th></th>\n      <th>cod_provin</th>\n      <th>provincia</th>\n      <th>cod_canton</th>\n      <th>canton</th>\n      <th>2020-03-15 00:00:00</th>\n      <th>2020-03-16 00:00:00</th>\n      <th>2020-03-17 00:00:00</th>\n      <th>2020-03-18 00:00:00</th>\n      <th>2020-03-19 00:00:00</th>\n      <th>2020-03-20 00:00:00</th>\n      <th>...</th>\n      <th>2021-05-19 00:00:00</th>\n      <th>2021-05-20 00:00:00</th>\n      <th>2021-05-21 00:00:00</th>\n      <th>2021-05-22 00:00:00</th>\n      <th>2021-05-23 00:00:00</th>\n      <th>2021-05-24 00:00:00</th>\n      <th>2021-05-25 00:00:00</th>\n      <th>2021-05-26 00:00:00</th>\n      <th>2021-05-27 00:00:00</th>\n      <th>2021-05-28 00:00:00</th>\n    </tr>\n  </thead>\n  <tbody>\n    <tr>\n      <th>0</th>\n      <td>1</td>\n      <td>San José</td>\n      <td>112</td>\n      <td>Acosta</td>\n      <td>0</td>\n      <td>0</td>\n      <td>0</td>\n      <td>0</td>\n      <td>0</td>\n      <td>0</td>\n      <td>...</td>\n      <td>1149</td>\n      <td>1156</td>\n      <td>1162</td>\n      <td>1168</td>\n      <td>1172</td>\n      <td>1183</td>\n      <td>1191</td>\n      <td>1194</td>\n      <td>1200</td>\n      <td>1210</td>\n    </tr>\n    <tr>\n      <th>1</th>\n      <td>1</td>\n      <td>San José</td>\n      <td>110</td>\n      <td>Alajuelita</td>\n      <td>0</td>\n      <td>0</td>\n      <td>0</td>\n      <td>0</td>\n      <td>0</td>\n      <td>0</td>\n      <td>...</td>\n      <td>8263</td>\n      <td>8305</td>\n      <td>8336</td>\n      <td>8375</td>\n      <td>8413</td>\n      <td>8443</td>\n      <td>8481</td>\n      <td>8516</td>\n      <td>8565</td>\n      <td>8601</td>\n    </tr>\n    <tr>\n      <th>2</th>\n      <td>1</td>\n      <td>San José</td>\n      <td>106</td>\n      <td>Aserrí</td>\n      <td>0</td>\n      <td>0</td>\n      <td>0</td>\n      <td>0</td>\n      <td>0</td>\n      <td>0</td>\n      <td>...</td>\n      <td>2986</td>\n      <td>3029</td>\n      <td>3070</td>\n      <td>3093</td>\n      <td>3109</td>\n      <td>3126</td>\n      <td>3163</td>\n      <td>3206</td>\n      <td>3247</td>\n      <td>3265</td>\n    </tr>\n    <tr>\n      <th>3</th>\n      <td>1</td>\n      <td>San José</td>\n      <td>118</td>\n      <td>Curridabat</td>\n      <td>0</td>\n      <td>0</td>\n      <td>1</td>\n      <td>2</td>\n      <td>3</td>\n      <td>5</td>\n      <td>...</td>\n      <td>5401</td>\n      <td>5450</td>\n      <td>5493</td>\n      <td>5527</td>\n      <td>5554</td>\n      <td>5559</td>\n      <td>5593</td>\n      <td>5643</td>\n      <td>5673</td>\n      <td>5710</td>\n    </tr>\n    <tr>\n      <th>4</th>\n      <td>1</td>\n      <td>San José</td>\n      <td>103</td>\n      <td>Desamparados</td>\n      <td>4</td>\n      <td>4</td>\n      <td>4</td>\n      <td>4</td>\n      <td>4</td>\n      <td>5</td>\n      <td>...</td>\n      <td>14927</td>\n      <td>15076</td>\n      <td>15195</td>\n      <td>15320</td>\n      <td>15420</td>\n      <td>15482</td>\n      <td>15579</td>\n      <td>15708</td>\n      <td>15830</td>\n      <td>15954</td>\n    </tr>\n  </tbody>\n</table>\n<p>5 rows × 444 columns</p>\n</div>"
     },
     "metadata": {},
     "execution_count": 4
    }
   ],
   "source": [
    "df_confirmed=pd.read_excel(xls,sheet_name=SHEET_CONFIRMED_NAME)\n",
    "df_confirmed.head()"
   ]
  },
  {
   "cell_type": "code",
   "execution_count": 5,
   "id": "5df0f528-453b-4f4d-b4f0-caeb310d96c7",
   "metadata": {},
   "outputs": [
    {
     "output_type": "execute_result",
     "data": {
      "text/plain": [
       "   cod_provin provincia  cod_canton        canton  2020-04-21 00:00:00  \\\n",
       "0           1  San José         112        Acosta                    0   \n",
       "1           1  San José         110    Alajuelita                    0   \n",
       "2           1  San José         106        Aserrí                    0   \n",
       "3           1  San José         118    Curridabat                    0   \n",
       "4           1  San José         103  Desamparados                    1   \n",
       "\n",
       "   2020-04-22 00:00:00  2020-04-23 00:00:00  2020-04-24 00:00:00  \\\n",
       "0                    0                    0                    0   \n",
       "1                    0                    0                    0   \n",
       "2                    0                    0                    0   \n",
       "3                    0                    0                    0   \n",
       "4                    1                    1                    1   \n",
       "\n",
       "   2020-04-25 00:00:00  2020-04-26 00:00:00  ...  2021-05-19 00:00:00  \\\n",
       "0                    0                    0  ...                    8   \n",
       "1                    0                    0  ...                  100   \n",
       "2                    0                    0  ...                   26   \n",
       "3                    0                    0  ...                   80   \n",
       "4                    1                    1  ...                  209   \n",
       "\n",
       "   2021-05-20 00:00:00  2021-05-21 00:00:00  2021-05-22 00:00:00  \\\n",
       "0                    8                    8                    8   \n",
       "1                  102                  102                  102   \n",
       "2                   26                   26                   26   \n",
       "3                   81                   81                   82   \n",
       "4                  210                  211                  212   \n",
       "\n",
       "   2021-05-23 00:00:00  2021-05-24 00:00:00  2021-05-25 00:00:00  \\\n",
       "0                    8                    8                    8   \n",
       "1                  102                  102                  102   \n",
       "2                   26                   26                   26   \n",
       "3                   83                   83                   83   \n",
       "4                  212                  215                  217   \n",
       "\n",
       "   2021-05-26 00:00:00  2021-05-27 00:00:00  2021-05-28 00:00:00  \n",
       "0                    8                    8                    8  \n",
       "1                  102                  102                  102  \n",
       "2                   28                   28                   28  \n",
       "3                   83                   84                   84  \n",
       "4                  221                  222                  225  \n",
       "\n",
       "[5 rows x 407 columns]"
      ],
      "text/html": "<div>\n<style scoped>\n    .dataframe tbody tr th:only-of-type {\n        vertical-align: middle;\n    }\n\n    .dataframe tbody tr th {\n        vertical-align: top;\n    }\n\n    .dataframe thead th {\n        text-align: right;\n    }\n</style>\n<table border=\"1\" class=\"dataframe\">\n  <thead>\n    <tr style=\"text-align: right;\">\n      <th></th>\n      <th>cod_provin</th>\n      <th>provincia</th>\n      <th>cod_canton</th>\n      <th>canton</th>\n      <th>2020-04-21 00:00:00</th>\n      <th>2020-04-22 00:00:00</th>\n      <th>2020-04-23 00:00:00</th>\n      <th>2020-04-24 00:00:00</th>\n      <th>2020-04-25 00:00:00</th>\n      <th>2020-04-26 00:00:00</th>\n      <th>...</th>\n      <th>2021-05-19 00:00:00</th>\n      <th>2021-05-20 00:00:00</th>\n      <th>2021-05-21 00:00:00</th>\n      <th>2021-05-22 00:00:00</th>\n      <th>2021-05-23 00:00:00</th>\n      <th>2021-05-24 00:00:00</th>\n      <th>2021-05-25 00:00:00</th>\n      <th>2021-05-26 00:00:00</th>\n      <th>2021-05-27 00:00:00</th>\n      <th>2021-05-28 00:00:00</th>\n    </tr>\n  </thead>\n  <tbody>\n    <tr>\n      <th>0</th>\n      <td>1</td>\n      <td>San José</td>\n      <td>112</td>\n      <td>Acosta</td>\n      <td>0</td>\n      <td>0</td>\n      <td>0</td>\n      <td>0</td>\n      <td>0</td>\n      <td>0</td>\n      <td>...</td>\n      <td>8</td>\n      <td>8</td>\n      <td>8</td>\n      <td>8</td>\n      <td>8</td>\n      <td>8</td>\n      <td>8</td>\n      <td>8</td>\n      <td>8</td>\n      <td>8</td>\n    </tr>\n    <tr>\n      <th>1</th>\n      <td>1</td>\n      <td>San José</td>\n      <td>110</td>\n      <td>Alajuelita</td>\n      <td>0</td>\n      <td>0</td>\n      <td>0</td>\n      <td>0</td>\n      <td>0</td>\n      <td>0</td>\n      <td>...</td>\n      <td>100</td>\n      <td>102</td>\n      <td>102</td>\n      <td>102</td>\n      <td>102</td>\n      <td>102</td>\n      <td>102</td>\n      <td>102</td>\n      <td>102</td>\n      <td>102</td>\n    </tr>\n    <tr>\n      <th>2</th>\n      <td>1</td>\n      <td>San José</td>\n      <td>106</td>\n      <td>Aserrí</td>\n      <td>0</td>\n      <td>0</td>\n      <td>0</td>\n      <td>0</td>\n      <td>0</td>\n      <td>0</td>\n      <td>...</td>\n      <td>26</td>\n      <td>26</td>\n      <td>26</td>\n      <td>26</td>\n      <td>26</td>\n      <td>26</td>\n      <td>26</td>\n      <td>28</td>\n      <td>28</td>\n      <td>28</td>\n    </tr>\n    <tr>\n      <th>3</th>\n      <td>1</td>\n      <td>San José</td>\n      <td>118</td>\n      <td>Curridabat</td>\n      <td>0</td>\n      <td>0</td>\n      <td>0</td>\n      <td>0</td>\n      <td>0</td>\n      <td>0</td>\n      <td>...</td>\n      <td>80</td>\n      <td>81</td>\n      <td>81</td>\n      <td>82</td>\n      <td>83</td>\n      <td>83</td>\n      <td>83</td>\n      <td>83</td>\n      <td>84</td>\n      <td>84</td>\n    </tr>\n    <tr>\n      <th>4</th>\n      <td>1</td>\n      <td>San José</td>\n      <td>103</td>\n      <td>Desamparados</td>\n      <td>1</td>\n      <td>1</td>\n      <td>1</td>\n      <td>1</td>\n      <td>1</td>\n      <td>1</td>\n      <td>...</td>\n      <td>209</td>\n      <td>210</td>\n      <td>211</td>\n      <td>212</td>\n      <td>212</td>\n      <td>215</td>\n      <td>217</td>\n      <td>221</td>\n      <td>222</td>\n      <td>225</td>\n    </tr>\n  </tbody>\n</table>\n<p>5 rows × 407 columns</p>\n</div>"
     },
     "metadata": {},
     "execution_count": 5
    }
   ],
   "source": [
    "df_deaths=pd.read_excel(xls,sheet_name=SHEET_DEATHS_NAME)\n",
    "df_deaths.head()"
   ]
  },
  {
   "cell_type": "code",
   "execution_count": 6,
   "id": "0726e6a7-40e8-4dd5-9851-47c77d726a4d",
   "metadata": {},
   "outputs": [
    {
     "output_type": "execute_result",
     "data": {
      "text/plain": [
       "   cod_provin provincia  cod_canton        canton  2020-04-16 00:00:00  \\\n",
       "0           1  San José         112        Acosta                    0   \n",
       "1           1  San José         110    Alajuelita                    0   \n",
       "2           1  San José         106        Aserrí                    0   \n",
       "3           1  San José         118    Curridabat                    1   \n",
       "4           1  San José         103  Desamparados                    0   \n",
       "\n",
       "   2020-04-18 00:00:00  2020-04-19 00:00:00  2020-04-20 00:00:00  \\\n",
       "0                    0                    0                    0   \n",
       "1                    0                    0                    1   \n",
       "2                    0                    0                    0   \n",
       "3                    1                    2                    2   \n",
       "4                    0                    0                    0   \n",
       "\n",
       "   2020-04-21 00:00:00  2020-04-22 00:00:00  ...  2021-05-19 00:00:00  \\\n",
       "0                    0                    0  ...                  987   \n",
       "1                    2                    3  ...                 6362   \n",
       "2                    0                    1  ...                 2079   \n",
       "3                    3                    3  ...                 4719   \n",
       "4                    0                    3  ...                11026   \n",
       "\n",
       "   2021-05-20 00:00:00  2021-05-21 00:00:00  2021-05-22 00:00:00  \\\n",
       "0                  987                  995                  994   \n",
       "1                 6362                 6364                 6364   \n",
       "2                 2078                 2078                 2078   \n",
       "3                 4720                 4886                 4886   \n",
       "4                11026                11030                11032   \n",
       "\n",
       "   2021-05-23 00:00:00  2021-05-24 00:00:00  2021-05-25 00:00:00  \\\n",
       "0                  994                  994                  994   \n",
       "1                 6366                 6387                 6388   \n",
       "2                 2078                 2082                 2083   \n",
       "3                 4886                 4887                 4887   \n",
       "4                11032                11042                11042   \n",
       "\n",
       "   2021-05-26 00:00:00  2021-05-27 00:00:00  2021-05-28 00:00:00  \n",
       "0                  997                  997                  997  \n",
       "1                 6479                 6480                 6482  \n",
       "2                 2093                 2093                 2093  \n",
       "3                 4942                 4942                 5112  \n",
       "4                11827                11829                11832  \n",
       "\n",
       "[5 rows x 411 columns]"
      ],
      "text/html": "<div>\n<style scoped>\n    .dataframe tbody tr th:only-of-type {\n        vertical-align: middle;\n    }\n\n    .dataframe tbody tr th {\n        vertical-align: top;\n    }\n\n    .dataframe thead th {\n        text-align: right;\n    }\n</style>\n<table border=\"1\" class=\"dataframe\">\n  <thead>\n    <tr style=\"text-align: right;\">\n      <th></th>\n      <th>cod_provin</th>\n      <th>provincia</th>\n      <th>cod_canton</th>\n      <th>canton</th>\n      <th>2020-04-16 00:00:00</th>\n      <th>2020-04-18 00:00:00</th>\n      <th>2020-04-19 00:00:00</th>\n      <th>2020-04-20 00:00:00</th>\n      <th>2020-04-21 00:00:00</th>\n      <th>2020-04-22 00:00:00</th>\n      <th>...</th>\n      <th>2021-05-19 00:00:00</th>\n      <th>2021-05-20 00:00:00</th>\n      <th>2021-05-21 00:00:00</th>\n      <th>2021-05-22 00:00:00</th>\n      <th>2021-05-23 00:00:00</th>\n      <th>2021-05-24 00:00:00</th>\n      <th>2021-05-25 00:00:00</th>\n      <th>2021-05-26 00:00:00</th>\n      <th>2021-05-27 00:00:00</th>\n      <th>2021-05-28 00:00:00</th>\n    </tr>\n  </thead>\n  <tbody>\n    <tr>\n      <th>0</th>\n      <td>1</td>\n      <td>San José</td>\n      <td>112</td>\n      <td>Acosta</td>\n      <td>0</td>\n      <td>0</td>\n      <td>0</td>\n      <td>0</td>\n      <td>0</td>\n      <td>0</td>\n      <td>...</td>\n      <td>987</td>\n      <td>987</td>\n      <td>995</td>\n      <td>994</td>\n      <td>994</td>\n      <td>994</td>\n      <td>994</td>\n      <td>997</td>\n      <td>997</td>\n      <td>997</td>\n    </tr>\n    <tr>\n      <th>1</th>\n      <td>1</td>\n      <td>San José</td>\n      <td>110</td>\n      <td>Alajuelita</td>\n      <td>0</td>\n      <td>0</td>\n      <td>0</td>\n      <td>1</td>\n      <td>2</td>\n      <td>3</td>\n      <td>...</td>\n      <td>6362</td>\n      <td>6362</td>\n      <td>6364</td>\n      <td>6364</td>\n      <td>6366</td>\n      <td>6387</td>\n      <td>6388</td>\n      <td>6479</td>\n      <td>6480</td>\n      <td>6482</td>\n    </tr>\n    <tr>\n      <th>2</th>\n      <td>1</td>\n      <td>San José</td>\n      <td>106</td>\n      <td>Aserrí</td>\n      <td>0</td>\n      <td>0</td>\n      <td>0</td>\n      <td>0</td>\n      <td>0</td>\n      <td>1</td>\n      <td>...</td>\n      <td>2079</td>\n      <td>2078</td>\n      <td>2078</td>\n      <td>2078</td>\n      <td>2078</td>\n      <td>2082</td>\n      <td>2083</td>\n      <td>2093</td>\n      <td>2093</td>\n      <td>2093</td>\n    </tr>\n    <tr>\n      <th>3</th>\n      <td>1</td>\n      <td>San José</td>\n      <td>118</td>\n      <td>Curridabat</td>\n      <td>1</td>\n      <td>1</td>\n      <td>2</td>\n      <td>2</td>\n      <td>3</td>\n      <td>3</td>\n      <td>...</td>\n      <td>4719</td>\n      <td>4720</td>\n      <td>4886</td>\n      <td>4886</td>\n      <td>4886</td>\n      <td>4887</td>\n      <td>4887</td>\n      <td>4942</td>\n      <td>4942</td>\n      <td>5112</td>\n    </tr>\n    <tr>\n      <th>4</th>\n      <td>1</td>\n      <td>San José</td>\n      <td>103</td>\n      <td>Desamparados</td>\n      <td>0</td>\n      <td>0</td>\n      <td>0</td>\n      <td>0</td>\n      <td>0</td>\n      <td>3</td>\n      <td>...</td>\n      <td>11026</td>\n      <td>11026</td>\n      <td>11030</td>\n      <td>11032</td>\n      <td>11032</td>\n      <td>11042</td>\n      <td>11042</td>\n      <td>11827</td>\n      <td>11829</td>\n      <td>11832</td>\n    </tr>\n  </tbody>\n</table>\n<p>5 rows × 411 columns</p>\n</div>"
     },
     "metadata": {},
     "execution_count": 6
    }
   ],
   "source": [
    "df_recovered=pd.read_excel(xls,sheet_name=SHEET_RECOVRED_NAME)\n",
    "df_recovered.head()"
   ]
  },
  {
   "cell_type": "code",
   "execution_count": 7,
   "id": "4f5d8513-4443-43d2-a1dc-8eab86a337bc",
   "metadata": {},
   "outputs": [],
   "source": [
    "from datetime import datetime"
   ]
  },
  {
   "cell_type": "code",
   "execution_count": 8,
   "id": "db9223f5-7f50-47f0-834c-18562b44c289",
   "metadata": {},
   "outputs": [
    {
     "output_type": "execute_result",
     "data": {
      "text/plain": [
       "    provincia  2021-05-25 00:00:00 ISO 3166-2 Code\n",
       "0    Alajuela                60530            CR-A\n",
       "1     Cartago                28477            CR-C\n",
       "2  Guanacaste                16539            CR-G\n",
       "3     Heredia                34202            CR-H\n",
       "4       Limón                27619            CR-L\n",
       "5       Otros                  610             NaN\n",
       "6  Puntarenas                28408            CR-P\n",
       "7    San José               110514           CR-SJ"
      ],
      "text/html": "<div>\n<style scoped>\n    .dataframe tbody tr th:only-of-type {\n        vertical-align: middle;\n    }\n\n    .dataframe tbody tr th {\n        vertical-align: top;\n    }\n\n    .dataframe thead th {\n        text-align: right;\n    }\n</style>\n<table border=\"1\" class=\"dataframe\">\n  <thead>\n    <tr style=\"text-align: right;\">\n      <th></th>\n      <th>provincia</th>\n      <th>2021-05-25 00:00:00</th>\n      <th>ISO 3166-2 Code</th>\n    </tr>\n  </thead>\n  <tbody>\n    <tr>\n      <th>0</th>\n      <td>Alajuela</td>\n      <td>60530</td>\n      <td>CR-A</td>\n    </tr>\n    <tr>\n      <th>1</th>\n      <td>Cartago</td>\n      <td>28477</td>\n      <td>CR-C</td>\n    </tr>\n    <tr>\n      <th>2</th>\n      <td>Guanacaste</td>\n      <td>16539</td>\n      <td>CR-G</td>\n    </tr>\n    <tr>\n      <th>3</th>\n      <td>Heredia</td>\n      <td>34202</td>\n      <td>CR-H</td>\n    </tr>\n    <tr>\n      <th>4</th>\n      <td>Limón</td>\n      <td>27619</td>\n      <td>CR-L</td>\n    </tr>\n    <tr>\n      <th>5</th>\n      <td>Otros</td>\n      <td>610</td>\n      <td>NaN</td>\n    </tr>\n    <tr>\n      <th>6</th>\n      <td>Puntarenas</td>\n      <td>28408</td>\n      <td>CR-P</td>\n    </tr>\n    <tr>\n      <th>7</th>\n      <td>San José</td>\n      <td>110514</td>\n      <td>CR-SJ</td>\n    </tr>\n  </tbody>\n</table>\n</div>"
     },
     "metadata": {},
     "execution_count": 8
    }
   ],
   "source": [
    "df_confirmed=df_confirmed.groupby('provincia').sum().reset_index()\n",
    "df_confirmed=df_confirmed.dropna()\n",
    "\n",
    "day='2021-05-25'\n",
    "day_splitted=day.split('-')\n",
    "df_confirmed=df_confirmed.loc[:,['provincia',\n",
    "                    datetime(int(day_splitted[0]),\n",
    "                             int(day_splitted[1]),\n",
    "                             int(day_splitted[2]))\n",
    "                   ]]\n",
    "\n",
    "\n",
    "df_confirmed['ISO 3166-2 Code']=df_confirmed['provincia'].map(DICT_PLACES)\n",
    "df_confirmed"
   ]
  },
  {
   "cell_type": "code",
   "execution_count": 9,
   "id": "c6833281-0d10-483b-918a-05e1cf769939",
   "metadata": {},
   "outputs": [
    {
     "output_type": "execute_result",
     "data": {
      "text/plain": [
       "    provincia  2021-05-25 00:00:00 ISO 3166-2 Code\n",
       "0    Alajuela                60530            CR-A\n",
       "1     Cartago                28477            CR-C\n",
       "2  Guanacaste                16539            CR-G\n",
       "3     Heredia                34202            CR-H\n",
       "4       Limón                27619            CR-L\n",
       "5       Otros                  610             NaN\n",
       "6  Puntarenas                28408            CR-P\n",
       "7    San José               110514           CR-SJ"
      ],
      "text/html": "<div>\n<style scoped>\n    .dataframe tbody tr th:only-of-type {\n        vertical-align: middle;\n    }\n\n    .dataframe tbody tr th {\n        vertical-align: top;\n    }\n\n    .dataframe thead th {\n        text-align: right;\n    }\n</style>\n<table border=\"1\" class=\"dataframe\">\n  <thead>\n    <tr style=\"text-align: right;\">\n      <th></th>\n      <th>provincia</th>\n      <th>2021-05-25 00:00:00</th>\n      <th>ISO 3166-2 Code</th>\n    </tr>\n  </thead>\n  <tbody>\n    <tr>\n      <th>0</th>\n      <td>Alajuela</td>\n      <td>60530</td>\n      <td>CR-A</td>\n    </tr>\n    <tr>\n      <th>1</th>\n      <td>Cartago</td>\n      <td>28477</td>\n      <td>CR-C</td>\n    </tr>\n    <tr>\n      <th>2</th>\n      <td>Guanacaste</td>\n      <td>16539</td>\n      <td>CR-G</td>\n    </tr>\n    <tr>\n      <th>3</th>\n      <td>Heredia</td>\n      <td>34202</td>\n      <td>CR-H</td>\n    </tr>\n    <tr>\n      <th>4</th>\n      <td>Limón</td>\n      <td>27619</td>\n      <td>CR-L</td>\n    </tr>\n    <tr>\n      <th>5</th>\n      <td>Otros</td>\n      <td>610</td>\n      <td>NaN</td>\n    </tr>\n    <tr>\n      <th>6</th>\n      <td>Puntarenas</td>\n      <td>28408</td>\n      <td>CR-P</td>\n    </tr>\n    <tr>\n      <th>7</th>\n      <td>San José</td>\n      <td>110514</td>\n      <td>CR-SJ</td>\n    </tr>\n  </tbody>\n</table>\n</div>"
     },
     "metadata": {},
     "execution_count": 9
    }
   ],
   "source": [
    "df_confirmed"
   ]
  },
  {
   "cell_type": "code",
   "execution_count": 15,
   "id": "cc8e024a-7a17-4ae3-aad9-5fdac362e4b2",
   "metadata": {},
   "outputs": [
    {
     "output_type": "execute_result",
     "data": {
      "text/plain": [
       "27619"
      ]
     },
     "metadata": {},
     "execution_count": 15
    }
   ],
   "source": [
    "df_confirmed.loc[df_confirmed['ISO 3166-2 Code']=='CR-L'].values[0][1]"
   ]
  }
 ],
 "metadata": {
  "kernelspec": {
   "display_name": "Python 3",
   "language": "python",
   "name": "python3"
  },
  "language_info": {
   "codemirror_mode": {
    "name": "ipython",
    "version": 3
   },
   "file_extension": ".py",
   "mimetype": "text/x-python",
   "name": "python",
   "nbconvert_exporter": "python",
   "pygments_lexer": "ipython3",
   "version": "3.9.5"
  }
 },
 "nbformat": 4,
 "nbformat_minor": 5
}