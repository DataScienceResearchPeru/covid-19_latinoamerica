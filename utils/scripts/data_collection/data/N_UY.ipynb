{
 "metadata": {
  "language_info": {
   "codemirror_mode": {
    "name": "ipython",
    "version": 3
   },
   "file_extension": ".py",
   "mimetype": "text/x-python",
   "name": "python",
   "nbconvert_exporter": "python",
   "pygments_lexer": "ipython3",
   "version": "3.9.5"
  },
  "orig_nbformat": 2,
  "kernelspec": {
   "name": "python3",
   "display_name": "Python 3",
   "language": "python"
  }
 },
 "nbformat": 4,
 "nbformat_minor": 2,
 "cells": [
  {
   "cell_type": "code",
   "execution_count": 1,
   "metadata": {},
   "outputs": [],
   "source": [
    "import pandas as pd\n",
    "import numpy as np\n",
    "from datetime import datetime"
   ]
  },
  {
   "cell_type": "code",
   "execution_count": 2,
   "metadata": {},
   "outputs": [],
   "source": [
    "DATA_URL = 'https://catalogodatos.gub.uy/dataset/560823fe-5ed7-47d2-9b3f-48a6768c6ebf/resource/22626680-4ff1-49e7-a8ad-e580636618b2/download/estadisticas-covid-19.xlsx'\n",
    "DATA_TEMPLATE_URL = 'https://raw.githubusercontent.com/DataScienceResearchPeru/covid-19_latinoamerica/master/latam_covid_19_data/templates/daily_report.csv'\n",
    "PATH_CSV = \"utils/scripts/data_collection/data/uruguay_temporal/\"\n",
    "PATH_DSRP_DAILY_REPORTS = 'latam_covid_19_data/daily_reports/'\n",
    "LAST_UPDATE = datetime.today().isoformat()\n",
    "DICT_PLACES = {'Artigas':'UY-AR',\n",
    "                'Canelones':'UY-CA',\n",
    "                'Cerro Largo ':'UY-CL',\n",
    "                'Cerro Largo\\xa0':'UY-CL',\n",
    "                'Colonia':'UY-CO', \n",
    "                'Durazno':'UY-DU',\n",
    "                'Flores':'UY-FS', \n",
    "                'Florida':'UY-FD', \n",
    "                'Lavalleja':'UY-LA',\n",
    "                'Maldonado':'UY-MA',\n",
    "                'Montevideo':'UY-MO',\n",
    "                'Paysandú':'UY-PA',\n",
    "                'Río Negro':'UY-RN',\n",
    "                'Rivera':'UY-RV',\n",
    "                'Rocha':'UY-RO', \n",
    "                'Salto':'UY-SA', \n",
    "                'San José':'UY-SJ',\n",
    "                'Soriano':'UY-SO', \n",
    "                'Tacuarembó':'UY-TA',\n",
    "                'Treinta y Tres':'UY-TT',\n",
    "                'Todo el país':np.nan,\n",
    "}"
   ]
  },
  {
   "cell_type": "code",
   "execution_count": 12,
   "metadata": {},
   "outputs": [],
   "source": [
    "xls = pd.ExcelFile(DATA_URL)\n",
    "df=pd.read_excel(xls,'Datos')\n",
    "df=df[['Fecha','Indicador','Territorio','Valor']]"
   ]
  },
  {
   "cell_type": "code",
   "execution_count": 13,
   "metadata": {},
   "outputs": [
    {
     "output_type": "execute_result",
     "data": {
      "text/plain": [
       "           Fecha                          Indicador    Territorio  Valor  \\\n",
       "0     2020-04-09                      Casos activos       Artigas      0   \n",
       "1     2020-04-09                      Casos activos     Canelones     37   \n",
       "2     2020-04-09                      Casos activos  Cerro Largo       0   \n",
       "3     2020-04-09                      Casos activos       Colonia      4   \n",
       "4     2020-04-09                      Casos activos       Durazno      0   \n",
       "...          ...                                ...           ...    ...   \n",
       "31008 2021-05-17  Personal de la salud  Fallecidos   Todo el país     19   \n",
       "31009 2021-05-17          Cantidad de Tests  Total   Todo el país  11184   \n",
       "31010 2021-05-17      Personas en Cuidados criticos  Todo el país    495   \n",
       "31011 2021-05-17                        Fallecidos   Todo el país   3510   \n",
       "31012 2021-05-17                      Casos nuevos   Todo el país   2399   \n",
       "\n",
       "      ISO 3166-2 Code  \n",
       "0               UY-AR  \n",
       "1               UY-CA  \n",
       "2               UY-CL  \n",
       "3               UY-CO  \n",
       "4               UY-DU  \n",
       "...               ...  \n",
       "31008             NaN  \n",
       "31009             NaN  \n",
       "31010             NaN  \n",
       "31011             NaN  \n",
       "31012             NaN  \n",
       "\n",
       "[31013 rows x 5 columns]"
      ],
      "text/html": "<div>\n<style scoped>\n    .dataframe tbody tr th:only-of-type {\n        vertical-align: middle;\n    }\n\n    .dataframe tbody tr th {\n        vertical-align: top;\n    }\n\n    .dataframe thead th {\n        text-align: right;\n    }\n</style>\n<table border=\"1\" class=\"dataframe\">\n  <thead>\n    <tr style=\"text-align: right;\">\n      <th></th>\n      <th>Fecha</th>\n      <th>Indicador</th>\n      <th>Territorio</th>\n      <th>Valor</th>\n      <th>ISO 3166-2 Code</th>\n    </tr>\n  </thead>\n  <tbody>\n    <tr>\n      <th>0</th>\n      <td>2020-04-09</td>\n      <td>Casos activos</td>\n      <td>Artigas</td>\n      <td>0</td>\n      <td>UY-AR</td>\n    </tr>\n    <tr>\n      <th>1</th>\n      <td>2020-04-09</td>\n      <td>Casos activos</td>\n      <td>Canelones</td>\n      <td>37</td>\n      <td>UY-CA</td>\n    </tr>\n    <tr>\n      <th>2</th>\n      <td>2020-04-09</td>\n      <td>Casos activos</td>\n      <td>Cerro Largo</td>\n      <td>0</td>\n      <td>UY-CL</td>\n    </tr>\n    <tr>\n      <th>3</th>\n      <td>2020-04-09</td>\n      <td>Casos activos</td>\n      <td>Colonia</td>\n      <td>4</td>\n      <td>UY-CO</td>\n    </tr>\n    <tr>\n      <th>4</th>\n      <td>2020-04-09</td>\n      <td>Casos activos</td>\n      <td>Durazno</td>\n      <td>0</td>\n      <td>UY-DU</td>\n    </tr>\n    <tr>\n      <th>...</th>\n      <td>...</td>\n      <td>...</td>\n      <td>...</td>\n      <td>...</td>\n      <td>...</td>\n    </tr>\n    <tr>\n      <th>31008</th>\n      <td>2021-05-17</td>\n      <td>Personal de la salud  Fallecidos</td>\n      <td>Todo el país</td>\n      <td>19</td>\n      <td>NaN</td>\n    </tr>\n    <tr>\n      <th>31009</th>\n      <td>2021-05-17</td>\n      <td>Cantidad de Tests  Total</td>\n      <td>Todo el país</td>\n      <td>11184</td>\n      <td>NaN</td>\n    </tr>\n    <tr>\n      <th>31010</th>\n      <td>2021-05-17</td>\n      <td>Personas en Cuidados criticos</td>\n      <td>Todo el país</td>\n      <td>495</td>\n      <td>NaN</td>\n    </tr>\n    <tr>\n      <th>31011</th>\n      <td>2021-05-17</td>\n      <td>Fallecidos</td>\n      <td>Todo el país</td>\n      <td>3510</td>\n      <td>NaN</td>\n    </tr>\n    <tr>\n      <th>31012</th>\n      <td>2021-05-17</td>\n      <td>Casos nuevos</td>\n      <td>Todo el país</td>\n      <td>2399</td>\n      <td>NaN</td>\n    </tr>\n  </tbody>\n</table>\n<p>31013 rows × 5 columns</p>\n</div>"
     },
     "metadata": {},
     "execution_count": 13
    }
   ],
   "source": [
    "df['ISO 3166-2 Code']=df['Territorio'].map(DICT_PLACES)\n",
    "df"
   ]
  },
  {
   "cell_type": "code",
   "execution_count": 14,
   "metadata": {},
   "outputs": [
    {
     "output_type": "execute_result",
     "data": {
      "text/plain": [
       "           Fecha      Indicador      Territorio  Valor ISO 3166-2 Code\n",
       "0     2020-04-09  Casos activos         Artigas      0           UY-AR\n",
       "1     2020-04-09  Casos activos       Canelones     37           UY-CA\n",
       "2     2020-04-09  Casos activos    Cerro Largo       0           UY-CL\n",
       "3     2020-04-09  Casos activos         Colonia      4           UY-CO\n",
       "4     2020-04-09  Casos activos         Durazno      0           UY-DU\n",
       "...          ...            ...             ...    ...             ...\n",
       "31000 2021-05-17     Fallecidos           Salto    114           UY-SA\n",
       "31001 2021-05-17     Fallecidos        San José     79           UY-SJ\n",
       "31002 2021-05-17     Fallecidos         Soriano    113           UY-SO\n",
       "31003 2021-05-17     Fallecidos      Tacuarembó     88           UY-TA\n",
       "31004 2021-05-17     Fallecidos  Treinta y Tres     35           UY-TT\n",
       "\n",
       "[26676 rows x 5 columns]"
      ],
      "text/html": "<div>\n<style scoped>\n    .dataframe tbody tr th:only-of-type {\n        vertical-align: middle;\n    }\n\n    .dataframe tbody tr th {\n        vertical-align: top;\n    }\n\n    .dataframe thead th {\n        text-align: right;\n    }\n</style>\n<table border=\"1\" class=\"dataframe\">\n  <thead>\n    <tr style=\"text-align: right;\">\n      <th></th>\n      <th>Fecha</th>\n      <th>Indicador</th>\n      <th>Territorio</th>\n      <th>Valor</th>\n      <th>ISO 3166-2 Code</th>\n    </tr>\n  </thead>\n  <tbody>\n    <tr>\n      <th>0</th>\n      <td>2020-04-09</td>\n      <td>Casos activos</td>\n      <td>Artigas</td>\n      <td>0</td>\n      <td>UY-AR</td>\n    </tr>\n    <tr>\n      <th>1</th>\n      <td>2020-04-09</td>\n      <td>Casos activos</td>\n      <td>Canelones</td>\n      <td>37</td>\n      <td>UY-CA</td>\n    </tr>\n    <tr>\n      <th>2</th>\n      <td>2020-04-09</td>\n      <td>Casos activos</td>\n      <td>Cerro Largo</td>\n      <td>0</td>\n      <td>UY-CL</td>\n    </tr>\n    <tr>\n      <th>3</th>\n      <td>2020-04-09</td>\n      <td>Casos activos</td>\n      <td>Colonia</td>\n      <td>4</td>\n      <td>UY-CO</td>\n    </tr>\n    <tr>\n      <th>4</th>\n      <td>2020-04-09</td>\n      <td>Casos activos</td>\n      <td>Durazno</td>\n      <td>0</td>\n      <td>UY-DU</td>\n    </tr>\n    <tr>\n      <th>...</th>\n      <td>...</td>\n      <td>...</td>\n      <td>...</td>\n      <td>...</td>\n      <td>...</td>\n    </tr>\n    <tr>\n      <th>31000</th>\n      <td>2021-05-17</td>\n      <td>Fallecidos</td>\n      <td>Salto</td>\n      <td>114</td>\n      <td>UY-SA</td>\n    </tr>\n    <tr>\n      <th>31001</th>\n      <td>2021-05-17</td>\n      <td>Fallecidos</td>\n      <td>San José</td>\n      <td>79</td>\n      <td>UY-SJ</td>\n    </tr>\n    <tr>\n      <th>31002</th>\n      <td>2021-05-17</td>\n      <td>Fallecidos</td>\n      <td>Soriano</td>\n      <td>113</td>\n      <td>UY-SO</td>\n    </tr>\n    <tr>\n      <th>31003</th>\n      <td>2021-05-17</td>\n      <td>Fallecidos</td>\n      <td>Tacuarembó</td>\n      <td>88</td>\n      <td>UY-TA</td>\n    </tr>\n    <tr>\n      <th>31004</th>\n      <td>2021-05-17</td>\n      <td>Fallecidos</td>\n      <td>Treinta y Tres</td>\n      <td>35</td>\n      <td>UY-TT</td>\n    </tr>\n  </tbody>\n</table>\n<p>26676 rows × 5 columns</p>\n</div>"
     },
     "metadata": {},
     "execution_count": 14
    }
   ],
   "source": [
    "df=df.dropna()\n",
    "df"
   ]
  },
  {
   "cell_type": "code",
   "execution_count": 27,
   "metadata": {},
   "outputs": [
    {
     "output_type": "execute_result",
     "data": {
      "text/plain": [
       "567"
      ]
     },
     "metadata": {},
     "execution_count": 27
    }
   ],
   "source": [
    "criterio=((df['Fecha']=='2021-05-17')&\n",
    "            (df['Indicador']=='Casos activos')&\n",
    "            (df['ISO 3166-2 Code']=='UY-AR'))\n",
    "\n",
    "value_confirmed_per_country=df.loc[criterio,'Valor']\n",
    "value_confirmed_per_country.values[0]"
   ]
  }
 ]
}